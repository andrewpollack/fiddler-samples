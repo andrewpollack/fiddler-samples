{
 "cells": [
  {
   "cell_type": "markdown",
   "metadata": {},
   "source": [
    "# Initialize Fiddler Client"
   ]
  },
  {
   "cell_type": "code",
   "execution_count": 1,
   "metadata": {},
   "outputs": [],
   "source": [
    "import fiddler as fdl\n",
    "client = fdl.FiddlerApi()"
   ]
  },
  {
   "cell_type": "markdown",
   "metadata": {},
   "source": [
    "# Load dataset"
   ]
  },
  {
   "cell_type": "code",
   "execution_count": 2,
   "metadata": {},
   "outputs": [],
   "source": [
    "import pandas as pd\n",
    "\n",
    "df = pd.read_csv('/app/fiddler_samples/samples/datasets/heart_disease/data.csv')\n",
    "df_schema = fdl.DatasetInfo.from_dataframe(df, max_inferred_cardinality=1000)"
   ]
  },
  {
   "cell_type": "code",
   "execution_count": 3,
   "metadata": {},
   "outputs": [
    {
     "data": {
      "text/html": [
       "<div>\n",
       "<style scoped>\n",
       "    .dataframe tbody tr th:only-of-type {\n",
       "        vertical-align: middle;\n",
       "    }\n",
       "\n",
       "    .dataframe tbody tr th {\n",
       "        vertical-align: top;\n",
       "    }\n",
       "\n",
       "    .dataframe thead th {\n",
       "        text-align: right;\n",
       "    }\n",
       "</style>\n",
       "<table border=\"1\" class=\"dataframe\">\n",
       "  <thead>\n",
       "    <tr style=\"text-align: right;\">\n",
       "      <th></th>\n",
       "      <th>age</th>\n",
       "      <th>sex</th>\n",
       "      <th>trestbps</th>\n",
       "      <th>chol</th>\n",
       "      <th>fbs</th>\n",
       "      <th>thalach</th>\n",
       "      <th>exang</th>\n",
       "      <th>oldpeak</th>\n",
       "      <th>slope</th>\n",
       "      <th>target</th>\n",
       "    </tr>\n",
       "  </thead>\n",
       "  <tbody>\n",
       "    <tr>\n",
       "      <td>0</td>\n",
       "      <td>63</td>\n",
       "      <td>1</td>\n",
       "      <td>145</td>\n",
       "      <td>233</td>\n",
       "      <td>1</td>\n",
       "      <td>150</td>\n",
       "      <td>0</td>\n",
       "      <td>2.3</td>\n",
       "      <td>3</td>\n",
       "      <td>0</td>\n",
       "    </tr>\n",
       "    <tr>\n",
       "      <td>1</td>\n",
       "      <td>67</td>\n",
       "      <td>1</td>\n",
       "      <td>160</td>\n",
       "      <td>286</td>\n",
       "      <td>0</td>\n",
       "      <td>108</td>\n",
       "      <td>1</td>\n",
       "      <td>1.5</td>\n",
       "      <td>2</td>\n",
       "      <td>1</td>\n",
       "    </tr>\n",
       "    <tr>\n",
       "      <td>2</td>\n",
       "      <td>67</td>\n",
       "      <td>1</td>\n",
       "      <td>120</td>\n",
       "      <td>229</td>\n",
       "      <td>0</td>\n",
       "      <td>129</td>\n",
       "      <td>1</td>\n",
       "      <td>2.6</td>\n",
       "      <td>2</td>\n",
       "      <td>0</td>\n",
       "    </tr>\n",
       "    <tr>\n",
       "      <td>3</td>\n",
       "      <td>37</td>\n",
       "      <td>1</td>\n",
       "      <td>130</td>\n",
       "      <td>250</td>\n",
       "      <td>0</td>\n",
       "      <td>187</td>\n",
       "      <td>0</td>\n",
       "      <td>3.5</td>\n",
       "      <td>3</td>\n",
       "      <td>0</td>\n",
       "    </tr>\n",
       "    <tr>\n",
       "      <td>4</td>\n",
       "      <td>41</td>\n",
       "      <td>0</td>\n",
       "      <td>130</td>\n",
       "      <td>204</td>\n",
       "      <td>0</td>\n",
       "      <td>172</td>\n",
       "      <td>0</td>\n",
       "      <td>1.4</td>\n",
       "      <td>1</td>\n",
       "      <td>0</td>\n",
       "    </tr>\n",
       "  </tbody>\n",
       "</table>\n",
       "</div>"
      ],
      "text/plain": [
       "   age  sex  trestbps  chol  fbs  thalach  exang  oldpeak  slope  target\n",
       "0   63    1       145   233    1      150      0      2.3      3       0\n",
       "1   67    1       160   286    0      108      1      1.5      2       1\n",
       "2   67    1       120   229    0      129      1      2.6      2       0\n",
       "3   37    1       130   250    0      187      0      3.5      3       0\n",
       "4   41    0       130   204    0      172      0      1.4      1       0"
      ]
     },
     "execution_count": 3,
     "metadata": {},
     "output_type": "execute_result"
    }
   ],
   "source": [
    "df.head()"
   ]
  },
  {
   "cell_type": "markdown",
   "metadata": {},
   "source": [
    "# Upload dataset"
   ]
  },
  {
   "cell_type": "code",
   "execution_count": 4,
   "metadata": {},
   "outputs": [],
   "source": [
    "if 'heart_disease' not in client.list_datasets():\n",
    "    upload_result = client.upload_dataset(\n",
    "        dataset={'data': df}, \n",
    "        dataset_id='heart_disease')"
   ]
  },
  {
   "cell_type": "markdown",
   "metadata": {},
   "source": [
    "# Create project"
   ]
  },
  {
   "cell_type": "code",
   "execution_count": 5,
   "metadata": {},
   "outputs": [],
   "source": [
    "project_id = 'tutorial'\n",
    "\n",
    "if project_id not in client.list_projects():\n",
    "    client.create_project(project_id)"
   ]
  },
  {
   "cell_type": "markdown",
   "metadata": {},
   "source": [
    "# Create model schema"
   ]
  },
  {
   "cell_type": "code",
   "execution_count": 6,
   "metadata": {},
   "outputs": [],
   "source": [
    "target = 'target'\n",
    "train_input = df.drop(columns=['target'])\n",
    "train_target = df[target]\n",
    "\n",
    "feature_columns = list(train_input.columns)\n",
    "\n",
    "model_info = fdl.ModelInfo.from_dataset_info(\n",
    "    dataset_info=client.get_dataset_info('heart_disease'),\n",
    "    target=target, \n",
    "    features=feature_columns,\n",
    "    display_name='Keras Tabular IG',\n",
    "    description='this is a keras model using tabular data and IG enabled from tutorial',\n",
    "    model_task=fdl.ModelTask.BINARY_CLASSIFICATION\n",
    ")"
   ]
  },
  {
   "cell_type": "markdown",
   "metadata": {},
   "source": [
    "## Install TensorFlow if necessary"
   ]
  },
  {
   "cell_type": "code",
   "execution_count": null,
   "metadata": {},
   "outputs": [],
   "source": [
    "# !pip install tensorflow==1.14"
   ]
  },
  {
   "cell_type": "markdown",
   "metadata": {},
   "source": [
    "# Train model"
   ]
  },
  {
   "cell_type": "code",
   "execution_count": 7,
   "metadata": {},
   "outputs": [
    {
     "name": "stderr",
     "output_type": "stream",
     "text": [
      "/Users/leagenuit/opt/anaconda3/envs/fiddler/lib/python3.7/site-packages/tensorflow/python/framework/dtypes.py:516: FutureWarning: Passing (type, 1) or '1type' as a synonym of type is deprecated; in a future version of numpy, it will be understood as (type, (1,)) / '(1,)type'.\n",
      "  _np_qint8 = np.dtype([(\"qint8\", np.int8, 1)])\n",
      "/Users/leagenuit/opt/anaconda3/envs/fiddler/lib/python3.7/site-packages/tensorflow/python/framework/dtypes.py:517: FutureWarning: Passing (type, 1) or '1type' as a synonym of type is deprecated; in a future version of numpy, it will be understood as (type, (1,)) / '(1,)type'.\n",
      "  _np_quint8 = np.dtype([(\"quint8\", np.uint8, 1)])\n",
      "/Users/leagenuit/opt/anaconda3/envs/fiddler/lib/python3.7/site-packages/tensorflow/python/framework/dtypes.py:518: FutureWarning: Passing (type, 1) or '1type' as a synonym of type is deprecated; in a future version of numpy, it will be understood as (type, (1,)) / '(1,)type'.\n",
      "  _np_qint16 = np.dtype([(\"qint16\", np.int16, 1)])\n",
      "/Users/leagenuit/opt/anaconda3/envs/fiddler/lib/python3.7/site-packages/tensorflow/python/framework/dtypes.py:519: FutureWarning: Passing (type, 1) or '1type' as a synonym of type is deprecated; in a future version of numpy, it will be understood as (type, (1,)) / '(1,)type'.\n",
      "  _np_quint16 = np.dtype([(\"quint16\", np.uint16, 1)])\n",
      "/Users/leagenuit/opt/anaconda3/envs/fiddler/lib/python3.7/site-packages/tensorflow/python/framework/dtypes.py:520: FutureWarning: Passing (type, 1) or '1type' as a synonym of type is deprecated; in a future version of numpy, it will be understood as (type, (1,)) / '(1,)type'.\n",
      "  _np_qint32 = np.dtype([(\"qint32\", np.int32, 1)])\n",
      "/Users/leagenuit/opt/anaconda3/envs/fiddler/lib/python3.7/site-packages/tensorflow/python/framework/dtypes.py:525: FutureWarning: Passing (type, 1) or '1type' as a synonym of type is deprecated; in a future version of numpy, it will be understood as (type, (1,)) / '(1,)type'.\n",
      "  np_resource = np.dtype([(\"resource\", np.ubyte, 1)])\n"
     ]
    },
    {
     "name": "stdout",
     "output_type": "stream",
     "text": [
      "WARNING:tensorflow:From /Users/leagenuit/opt/anaconda3/envs/fiddler/lib/python3.7/site-packages/tensorflow/python/ops/init_ops.py:1251: calling VarianceScaling.__init__ (from tensorflow.python.ops.init_ops) with dtype is deprecated and will be removed in a future version.\n",
      "Instructions for updating:\n",
      "Call initializer instance with the dtype argument instead of passing it to the constructor\n",
      "WARNING:tensorflow:From /Users/leagenuit/opt/anaconda3/envs/fiddler/lib/python3.7/site-packages/tensorflow/python/ops/nn_impl.py:180: add_dispatch_support.<locals>.wrapper (from tensorflow.python.ops.array_ops) is deprecated and will be removed in a future version.\n",
      "Instructions for updating:\n",
      "Use tf.where in 2.0, which has the same broadcast rule as np.where\n"
     ]
    },
    {
     "name": "stderr",
     "output_type": "stream",
     "text": [
      "/Users/leagenuit/opt/anaconda3/envs/fiddler/lib/python3.7/site-packages/tensorboard/compat/tensorflow_stub/dtypes.py:541: FutureWarning: Passing (type, 1) or '1type' as a synonym of type is deprecated; in a future version of numpy, it will be understood as (type, (1,)) / '(1,)type'.\n",
      "  _np_qint8 = np.dtype([(\"qint8\", np.int8, 1)])\n",
      "/Users/leagenuit/opt/anaconda3/envs/fiddler/lib/python3.7/site-packages/tensorboard/compat/tensorflow_stub/dtypes.py:542: FutureWarning: Passing (type, 1) or '1type' as a synonym of type is deprecated; in a future version of numpy, it will be understood as (type, (1,)) / '(1,)type'.\n",
      "  _np_quint8 = np.dtype([(\"quint8\", np.uint8, 1)])\n",
      "/Users/leagenuit/opt/anaconda3/envs/fiddler/lib/python3.7/site-packages/tensorboard/compat/tensorflow_stub/dtypes.py:543: FutureWarning: Passing (type, 1) or '1type' as a synonym of type is deprecated; in a future version of numpy, it will be understood as (type, (1,)) / '(1,)type'.\n",
      "  _np_qint16 = np.dtype([(\"qint16\", np.int16, 1)])\n",
      "/Users/leagenuit/opt/anaconda3/envs/fiddler/lib/python3.7/site-packages/tensorboard/compat/tensorflow_stub/dtypes.py:544: FutureWarning: Passing (type, 1) or '1type' as a synonym of type is deprecated; in a future version of numpy, it will be understood as (type, (1,)) / '(1,)type'.\n",
      "  _np_quint16 = np.dtype([(\"quint16\", np.uint16, 1)])\n",
      "/Users/leagenuit/opt/anaconda3/envs/fiddler/lib/python3.7/site-packages/tensorboard/compat/tensorflow_stub/dtypes.py:545: FutureWarning: Passing (type, 1) or '1type' as a synonym of type is deprecated; in a future version of numpy, it will be understood as (type, (1,)) / '(1,)type'.\n",
      "  _np_qint32 = np.dtype([(\"qint32\", np.int32, 1)])\n",
      "/Users/leagenuit/opt/anaconda3/envs/fiddler/lib/python3.7/site-packages/tensorboard/compat/tensorflow_stub/dtypes.py:550: FutureWarning: Passing (type, 1) or '1type' as a synonym of type is deprecated; in a future version of numpy, it will be understood as (type, (1,)) / '(1,)type'.\n",
      "  np_resource = np.dtype([(\"resource\", np.ubyte, 1)])\n"
     ]
    },
    {
     "name": "stdout",
     "output_type": "stream",
     "text": [
      "Epoch 1/8\n",
      "303/303 [==============================] - 0s 494us/sample - loss: 1.6299 - acc: 0.6535\n",
      "Epoch 2/8\n",
      "303/303 [==============================] - 0s 54us/sample - loss: 0.8188 - acc: 0.6667\n",
      "Epoch 3/8\n",
      "303/303 [==============================] - 0s 52us/sample - loss: 0.7701 - acc: 0.6898\n",
      "Epoch 4/8\n",
      "303/303 [==============================] - 0s 52us/sample - loss: 0.5647 - acc: 0.7261\n",
      "Epoch 5/8\n",
      "303/303 [==============================] - 0s 51us/sample - loss: 0.9328 - acc: 0.6766\n",
      "Epoch 6/8\n",
      "303/303 [==============================] - 0s 62us/sample - loss: 0.7327 - acc: 0.7195\n",
      "Epoch 7/8\n",
      "303/303 [==============================] - 0s 54us/sample - loss: 0.7437 - acc: 0.6832\n",
      "Epoch 8/8\n",
      "303/303 [==============================] - 0s 60us/sample - loss: 0.6358 - acc: 0.6898\n"
     ]
    },
    {
     "data": {
      "text/plain": [
       "<tensorflow.python.keras.callbacks.History at 0x7f8703fd2f10>"
      ]
     },
     "execution_count": 7,
     "metadata": {},
     "output_type": "execute_result"
    }
   ],
   "source": [
    "import tensorflow as tf\n",
    "\n",
    "inputs = tf.keras.Input(shape=(train_input.shape[1], ))\n",
    "activations = tf.keras.layers.Dense(32, activation='linear', use_bias=True)(inputs)\n",
    "activations = tf.keras.layers.Dense(128, activation=tf.nn.relu, use_bias=True)(activations)\n",
    "activations = tf.keras.layers.Dense(128, activation=tf.nn.relu, use_bias=True)(activations)\n",
    "activations = tf.keras.layers.Dense(1, activation='sigmoid', use_bias=True)(activations)\n",
    "model = tf.keras.Model(inputs=inputs, outputs=activations, name='keras_model')\n",
    "\n",
    "model.compile(\n",
    "    optimizer=tf.keras.optimizers.Adam(learning_rate=0.001), loss='binary_crossentropy',\n",
    "    metrics=['accuracy']\n",
    ")\n",
    "\n",
    "model.fit(train_input, train_target.values, batch_size=32, epochs=8)"
   ]
  },
  {
   "cell_type": "code",
   "execution_count": 8,
   "metadata": {},
   "outputs": [
    {
     "name": "stdout",
     "output_type": "stream",
     "text": [
      "303/303 [==============================] - 0s 119us/sample - loss: 0.8181 - acc: 0.7261\n"
     ]
    },
    {
     "data": {
      "text/plain": [
       "[0.8180775111264521, 0.7260726]"
      ]
     },
     "execution_count": 8,
     "metadata": {},
     "output_type": "execute_result"
    }
   ],
   "source": [
    "model.evaluate(train_input, train_target) "
   ]
  },
  {
   "cell_type": "markdown",
   "metadata": {},
   "source": [
    "# Save model and schema"
   ]
  },
  {
   "cell_type": "code",
   "execution_count": 9,
   "metadata": {},
   "outputs": [
    {
     "name": "stdout",
     "output_type": "stream",
     "text": [
      "WARNING:tensorflow:Entity <function Function._initialize_uninitialized_variables.<locals>.initialize_variables at 0x7f86e4b16200> could not be transformed and will be executed as-is. Please report this to the AutgoGraph team. When filing the bug, set the verbosity to 10 (on Linux, `export AUTOGRAPH_VERBOSITY=10`) and attach the full output. Cause: converting <function Function._initialize_uninitialized_variables.<locals>.initialize_variables at 0x7f86e4b16200>: AttributeError: module 'gast' has no attribute 'Num'\n",
      "WARNING: Entity <function Function._initialize_uninitialized_variables.<locals>.initialize_variables at 0x7f86e4b16200> could not be transformed and will be executed as-is. Please report this to the AutgoGraph team. When filing the bug, set the verbosity to 10 (on Linux, `export AUTOGRAPH_VERBOSITY=10`) and attach the full output. Cause: converting <function Function._initialize_uninitialized_variables.<locals>.initialize_variables at 0x7f86e4b16200>: AttributeError: module 'gast' has no attribute 'Num'\n",
      "WARNING:tensorflow:Entity <function canonicalize_signatures.<locals>.signature_wrapper at 0x7f86e4b16950> could not be transformed and will be executed as-is. Please report this to the AutgoGraph team. When filing the bug, set the verbosity to 10 (on Linux, `export AUTOGRAPH_VERBOSITY=10`) and attach the full output. Cause: converting <function canonicalize_signatures.<locals>.signature_wrapper at 0x7f86e4b16950>: AssertionError: Bad argument number for Name: 3, expecting 4\n",
      "WARNING: Entity <function canonicalize_signatures.<locals>.signature_wrapper at 0x7f86e4b16950> could not be transformed and will be executed as-is. Please report this to the AutgoGraph team. When filing the bug, set the verbosity to 10 (on Linux, `export AUTOGRAPH_VERBOSITY=10`) and attach the full output. Cause: converting <function canonicalize_signatures.<locals>.signature_wrapper at 0x7f86e4b16950>: AssertionError: Bad argument number for Name: 3, expecting 4\n",
      "WARNING:tensorflow:Entity <function Function._initialize_uninitialized_variables.<locals>.initialize_variables at 0x7f86e4ba89e0> could not be transformed and will be executed as-is. Please report this to the AutgoGraph team. When filing the bug, set the verbosity to 10 (on Linux, `export AUTOGRAPH_VERBOSITY=10`) and attach the full output. Cause: converting <function Function._initialize_uninitialized_variables.<locals>.initialize_variables at 0x7f86e4ba89e0>: AttributeError: module 'gast' has no attribute 'Num'\n",
      "WARNING: Entity <function Function._initialize_uninitialized_variables.<locals>.initialize_variables at 0x7f86e4ba89e0> could not be transformed and will be executed as-is. Please report this to the AutgoGraph team. When filing the bug, set the verbosity to 10 (on Linux, `export AUTOGRAPH_VERBOSITY=10`) and attach the full output. Cause: converting <function Function._initialize_uninitialized_variables.<locals>.initialize_variables at 0x7f86e4ba89e0>: AttributeError: module 'gast' has no attribute 'Num'\n",
      "INFO:tensorflow:Assets written to: heart_disease_tf/saved_model/assets\n"
     ]
    }
   ],
   "source": [
    "import pathlib\n",
    "import shutil\n",
    "import yaml\n",
    "\n",
    "# Let's save the model in the TF Saved Model format\n",
    "model_id_tf = 'heart_disease_tf'\n",
    "\n",
    "# create temp dir\n",
    "model_dir_tf = pathlib.Path(model_id_tf)\n",
    "shutil.rmtree(model_dir_tf, ignore_errors=True)\n",
    "model_dir_tf.mkdir()\n",
    "\n",
    "# save model\n",
    "tf.saved_model.save(model, str(model_dir_tf / 'saved_model'))"
   ]
  },
  {
   "cell_type": "markdown",
   "metadata": {},
   "source": [
    "# Write package.py and related wrappers"
   ]
  },
  {
   "cell_type": "markdown",
   "metadata": {},
   "source": [
    "### Import related wrappers"
   ]
  },
  {
   "cell_type": "markdown",
   "metadata": {},
   "source": [
    "We need to import 2 wrappers for tensorflow. Those files are stored in the utils directory.\n",
    "- The tf_saved_model_wrapper.py file contains a wrapper to load and run a TF model from a saved_model path.\n",
    "- The tf_saved_model_wrapper_ig.py file contains a wrapper to support Integrated Gradients (IG) computation for a TF model loaded from a saved_model path."
   ]
  },
  {
   "cell_type": "code",
   "execution_count": 11,
   "metadata": {},
   "outputs": [],
   "source": [
    "files = ['utils/tf_saved_model_wrapper.py', 'utils/tf_saved_model_wrapper_ig.py']\n",
    "for f in files:\n",
    "    shutil.copy(f, model_dir_tf)"
   ]
  },
  {
   "cell_type": "code",
   "execution_count": 12,
   "metadata": {},
   "outputs": [
    {
     "name": "stdout",
     "output_type": "stream",
     "text": [
      "Writing heart_disease_tf/package.py\n"
     ]
    }
   ],
   "source": [
    "%%writefile heart_disease_tf/package.py\n",
    "\n",
    "import pathlib\n",
    "import pandas as pd\n",
    "import tensorflow as tf\n",
    "from tensorflow.keras.models import load_model\n",
    "from .tf_saved_model_wrapper_ig import TFSavedModelWrapperIg\n",
    "\n",
    "tf.compat.v1.disable_eager_execution()\n",
    "\n",
    "PACKAGE_PATH = pathlib.Path(__file__).parent\n",
    "SAVED_MODEL_PATH = PACKAGE_PATH / 'saved_model'\n",
    "\n",
    "class MyModel(TFSavedModelWrapperIg):\n",
    "    \"\"\"\n",
    "    :param saved_model_path: Path to the directory containing the TF\n",
    "       model in SavedModel format.\n",
    "       See: https://www.tensorflow.org/guide/saved_model#build_and_load_a_savedmodel\n",
    "\n",
    "    :param sig_def_key: Key for the specific SignatureDef to be used for\n",
    "       executing the model.\n",
    "       See: https://www.tensorflow.org/tfx/serving/signature_defs#signaturedef_structure\n",
    "\n",
    "    :param output_columns: List containing the names of the output\n",
    "       column(s) that corresponds to the output of the model. If the\n",
    "       model is a binary classification model then the number of output\n",
    "       columns is one, otherwise, the number of columns must match the\n",
    "       shape of the output tensor corresponding to the output key\n",
    "       specified.\n",
    "\n",
    "    :param is_binary_classification [optional]: Boolean specifying if the\n",
    "       model is a binary classification model. If True, the number of\n",
    "       output columns is one. The default is False.\n",
    "\n",
    "    :param output_key [optional]: Key for the specific output tensor (\n",
    "       specified in the SignatureDef) whose predictions must be explained.\n",
    "       The output tensor must specify a differentiable output of the\n",
    "       model. Thus, output tensors that are generated as a result of\n",
    "       discrete operations (e.g., argmax) are disallowed. The default is\n",
    "       None, in which case the first output listed in the SignatureDef is\n",
    "       used. The 'saved_model_cli' can be used to view the output tensor\n",
    "       keys available in the signature_def.\n",
    "       See: https://www.tensorflow.org/guide/saved_model#cli_to_inspect_and_execute_savedmodel\n",
    "\n",
    "    :param batch_size [optional]: the batch size for input into the model.\n",
    "       Depends on model and instance config.\n",
    "\n",
    "    :param input_tensor_to_differentiable_layer_mapping [optional]:\n",
    "       Dictionary that maps input tensors to the first differentiable\n",
    "       layer/tensor in the graph they are attached to. For instance,\n",
    "       in a text model, an input tensor containing token ids\n",
    "       may not be differentiable but may feed into an embedding tensor.\n",
    "       Such an input tensor must be mapped to the corresponding the\n",
    "       embedding tensor in this dictionary.\n",
    "\n",
    "       All input tensors must be mentioned in the dictionary. An input\n",
    "       tensor that is directly differentiable may be mapped to itself.\n",
    "\n",
    "       For each differentiable tensor, the first dimension must be the\n",
    "       batch dimension. If <k1, …, kn> is the shape of the input then the\n",
    "       differentiable tensor must either have the same shape or the shape\n",
    "       <k1, …, kn, d>.\n",
    "\n",
    "       The default is None, in which case all input tensors are assumed\n",
    "       to be differentiable.\n",
    "\n",
    "    :param max_allowed_error: Float specifying a percentage value\n",
    "       for the maximum allowed integral approximation error for IG\n",
    "       computation. If None then IG will be  calculated for a\n",
    "       pre-determined number of steps. Otherwise, the number of steps\n",
    "       will be increased till the error is within the specified limit.\n",
    "    \"\"\"\n",
    "    def __init__(self, saved_model_path, sig_def_key,\n",
    "                 is_binary_classification=False,\n",
    "                 output_key=None,\n",
    "                 batch_size=8,\n",
    "                 output_columns=[],\n",
    "                 input_tensor_to_differentiable_layer_mapping={},\n",
    "                 max_allowed_error=None):\n",
    "        \n",
    "        super().__init__(saved_model_path, sig_def_key,\n",
    "                         is_binary_classification=is_binary_classification,\n",
    "                         output_key=output_key,\n",
    "                         batch_size=batch_size,\n",
    "                         output_columns=output_columns,\n",
    "                         input_tensor_to_differentiable_layer_mapping=\n",
    "                         input_tensor_to_differentiable_layer_mapping,\n",
    "                         max_allowed_error=max_allowed_error)\n",
    "\n",
    "\n",
    "    def transform_input(self, input_df):\n",
    "        \"\"\"\n",
    "        Transform the provided pandas DataFrame into one that complies with\n",
    "        the input interface of the model. This method returns a pandas\n",
    "        DataFrame with columns corresponding to the input tensor keys in the\n",
    "        SavedModel SignatureDef. The contents of each column match the input\n",
    "        tensor shape described in the SignatureDef.\n",
    "\n",
    "        Args:\n",
    "        :param input_df: DataFrame corresponding to the dataset yaml\n",
    "            associated with the project. Specifically, the columns in the\n",
    "            DataFrame must correspond to the feature names mentioned in the\n",
    "            yaml.\n",
    "\n",
    "        Returns:\n",
    "        - transformed_input_df: DataFrame with columns corresponding to the\n",
    "            input tensor keys in the saved model SignatureDef. The contents\n",
    "            of the columns must match the corresponding shape of the input\n",
    "            tensor described in the SignatureDef. For instance, if the\n",
    "            input to the model is a serialized tf.Example then the returned\n",
    "            DataFrame would have a single column containing serialized\n",
    "            examples.\n",
    "\n",
    "        \"\"\"\n",
    "        return pd.DataFrame({'input_1': input_df.values.tolist()})\n",
    "\n",
    "    def generate_baseline(self, input_df):\n",
    "        \"\"\"\n",
    "        Generates a DataFrame specifying a baseline that is required for\n",
    "        calculating Integrated Gradients.\n",
    "\n",
    "        The Baseline is a certain 'informationless' input relative to which\n",
    "        attributions must be computed. For instance, in a text\n",
    "        classification model, the baseline could be the empty text.\n",
    "\n",
    "        The baseline could be the same for all inputs or could be specific\n",
    "        to the input at hand. \n",
    "\n",
    "        The choice of baseline is important as explanations are contextual to a\n",
    "        baseline. For more information please refer to the following document:\n",
    "        https://github.com/ankurtaly/Integrated-Gradients/blob/master/howto.md\n",
    "        \"\"\"\n",
    "        baseline = input_df * 0\n",
    "        return pd.DataFrame({'input_1': baseline.values.tolist()})\n",
    "\n",
    "    def project_attributions(self, input_df, transformed_input_df,\n",
    "                             attributions):\n",
    "        \"\"\"\n",
    "        Maps the attributions for the provided transformed_input to\n",
    "        the original untransformed input.\n",
    "\n",
    "        This method returns a dictionary mapping features of the untransformed\n",
    "        input to the untransformed feature value, and (projected) attributions\n",
    "        computed for that feature.\n",
    "\n",
    "        This method guarantees that for each feature the projected attributions\n",
    "        have the same shape as the (returned) untransformed feature value. The\n",
    "        specific projection being applied is left as an implementation detail.\n",
    "        Below we provided some guidance on the projections that should be\n",
    "        applied for three different transformations\n",
    "\n",
    "        Identity transformation\n",
    "        This is the simplest case. Since the transformation is identity, the\n",
    "        projection would also be the identity function.\n",
    "\n",
    "        One-hot transformation for categorical features\n",
    "        Here the original feature is categorical, and the transformed feature\n",
    "        is a one-hot encoding. In this case, the returned untransformed feature\n",
    "        value is the specific input category, and the projected attribution is\n",
    "        the sum of the attribution across all fields of the one-hot encoding.\n",
    "\n",
    "        Token ID transformation for text features\n",
    "        Here the original feature is a sentence, and transformed feature is a\n",
    "        vector of token ids (w.r.t.a certain vocabulary). Here the\n",
    "        untransformed feature value would be a vector of tokens corresponding\n",
    "        to the token ids, and the projected attribution vector would be the\n",
    "        same as the one provided to this method. In some cases, token ids\n",
    "        corresponding to dummy token such a padding tokens, start tokens, end\n",
    "        tokens, etc. may be ignored during the projection. In that case, the\n",
    "        attributions values  corresponding to these tokens must be dropped from\n",
    "        the projected attributions vector.\n",
    "\n",
    "        :param input_df: Pandas DataFrame specifying the input whose prediction\n",
    "            is being attributed. Its columns must correspond to the dataset\n",
    "            yaml associated with the project. Specifically, the columns must\n",
    "            correspond to the feature names mentioned in the yaml.\n",
    "\n",
    "        :param transformed_input_df: Pandas DataFrame returned by the\n",
    "            transform_input method extended in package.py. It has exactly\n",
    "            one row as currently only instance explanations are supported.\n",
    "\n",
    "        :param attributions: dictionary mapping each column of the\n",
    "            transformed_input to the corresponding attributions tensor. The\n",
    "            attribution tensor must have the same shape as corresponding\n",
    "            column in transformed_input.\n",
    "\n",
    "        Returns:\n",
    "        - projected_inputs: dictionary with keys being the features of the\n",
    "            original untransformed input. The features are specified in the\n",
    "            model.yaml. The keys are mapped to a pair containing the original\n",
    "            untransformed input and the projected attribution.\n",
    "        \"\"\"\n",
    "        return {col: attributions['input_1'][0][i].tolist()\n",
    "                for i, col in enumerate(list(input_df.columns))}\n",
    "\n",
    "\n",
    "def get_model():\n",
    "    model = MyModel(\n",
    "        SAVED_MODEL_PATH,\n",
    "        tf.saved_model.signature_constants.DEFAULT_SERVING_SIGNATURE_DEF_KEY,\n",
    "        is_binary_classification=True,\n",
    "        batch_size=32,\n",
    "        output_columns=['predicted_target'],\n",
    "        input_tensor_to_differentiable_layer_mapping=\n",
    "        {'input_1': 'serving_default_input_1:0'},\n",
    "        max_allowed_error=5\n",
    "    )\n",
    "    model.load_model()\n",
    "    return model"
   ]
  },
  {
   "cell_type": "markdown",
   "metadata": {},
   "source": [
    "# Upload model"
   ]
  },
  {
   "cell_type": "code",
   "execution_count": 15,
   "metadata": {},
   "outputs": [
    {
     "name": "stdout",
     "output_type": "stream",
     "text": [
      "Model deleted\n"
     ]
    },
    {
     "data": {
      "text/plain": [
       "{'model': {'name': 'Keras Tabular IG',\n",
       "  'input-type': 'structured',\n",
       "  'model-task': 'binary_classification',\n",
       "  'inputs': [{'column-name': 'age', 'data-type': 'int'},\n",
       "   {'column-name': 'sex', 'data-type': 'int'},\n",
       "   {'column-name': 'trestbps', 'data-type': 'int'},\n",
       "   {'column-name': 'chol', 'data-type': 'int'},\n",
       "   {'column-name': 'fbs', 'data-type': 'int'},\n",
       "   {'column-name': 'thalach', 'data-type': 'int'},\n",
       "   {'column-name': 'exang', 'data-type': 'int'},\n",
       "   {'column-name': 'oldpeak', 'data-type': 'float'},\n",
       "   {'column-name': 'slope', 'data-type': 'int'}],\n",
       "  'outputs': [{'column-name': 'predicted_target',\n",
       "    'data-type': 'float',\n",
       "    'is-nullable': False}],\n",
       "  'datasets': ['heart_disease'],\n",
       "  'targets': [{'column-name': 'target', 'data-type': 'int'}],\n",
       "  'description': 'this is a keras model using tabular data and IG enabled from tutorial'}}"
      ]
     },
     "execution_count": 15,
     "metadata": {},
     "output_type": "execute_result"
    }
   ],
   "source": [
    "# Let's first delete the model if it already exists in the project\n",
    "if model_id_tf in client.list_models(project_id):\n",
    "    client.delete_model(project_id, model_id_tf)\n",
    "    print('Model deleted')\n",
    "    \n",
    "client.upload_model_custom(model_dir_tf, model_info, project_id, model_id_tf)"
   ]
  },
  {
   "cell_type": "markdown",
   "metadata": {},
   "source": [
    "# Run model"
   ]
  },
  {
   "cell_type": "code",
   "execution_count": 16,
   "metadata": {},
   "outputs": [
    {
     "data": {
      "text/html": [
       "<div>\n",
       "<style scoped>\n",
       "    .dataframe tbody tr th:only-of-type {\n",
       "        vertical-align: middle;\n",
       "    }\n",
       "\n",
       "    .dataframe tbody tr th {\n",
       "        vertical-align: top;\n",
       "    }\n",
       "\n",
       "    .dataframe thead th {\n",
       "        text-align: right;\n",
       "    }\n",
       "</style>\n",
       "<table border=\"1\" class=\"dataframe\">\n",
       "  <thead>\n",
       "    <tr style=\"text-align: right;\">\n",
       "      <th></th>\n",
       "      <th>predicted_target</th>\n",
       "    </tr>\n",
       "  </thead>\n",
       "  <tbody>\n",
       "    <tr>\n",
       "      <td>0</td>\n",
       "      <td>0.034779</td>\n",
       "    </tr>\n",
       "    <tr>\n",
       "      <td>1</td>\n",
       "      <td>0.233359</td>\n",
       "    </tr>\n",
       "    <tr>\n",
       "      <td>2</td>\n",
       "      <td>0.057097</td>\n",
       "    </tr>\n",
       "    <tr>\n",
       "      <td>3</td>\n",
       "      <td>0.002883</td>\n",
       "    </tr>\n",
       "    <tr>\n",
       "      <td>4</td>\n",
       "      <td>0.006785</td>\n",
       "    </tr>\n",
       "    <tr>\n",
       "      <td>5</td>\n",
       "      <td>0.003122</td>\n",
       "    </tr>\n",
       "    <tr>\n",
       "      <td>6</td>\n",
       "      <td>0.019532</td>\n",
       "    </tr>\n",
       "    <tr>\n",
       "      <td>7</td>\n",
       "      <td>0.011986</td>\n",
       "    </tr>\n",
       "    <tr>\n",
       "      <td>8</td>\n",
       "      <td>0.029182</td>\n",
       "    </tr>\n",
       "    <tr>\n",
       "      <td>9</td>\n",
       "      <td>0.029228</td>\n",
       "    </tr>\n",
       "  </tbody>\n",
       "</table>\n",
       "</div>"
      ],
      "text/plain": [
       "   predicted_target\n",
       "0          0.034779\n",
       "1          0.233359\n",
       "2          0.057097\n",
       "3          0.002883\n",
       "4          0.006785\n",
       "5          0.003122\n",
       "6          0.019532\n",
       "7          0.011986\n",
       "8          0.029182\n",
       "9          0.029228"
      ]
     },
     "execution_count": 16,
     "metadata": {},
     "output_type": "execute_result"
    }
   ],
   "source": [
    "prediction_input = train_input[:10]\n",
    "result = client.run_model(project_id, model_id_tf, prediction_input, log_events=True)\n",
    "result"
   ]
  },
  {
   "cell_type": "markdown",
   "metadata": {},
   "source": [
    "# Get explanation"
   ]
  },
  {
   "cell_type": "code",
   "execution_count": 17,
   "metadata": {},
   "outputs": [],
   "source": [
    "selected_point = df.head(1)"
   ]
  },
  {
   "cell_type": "code",
   "execution_count": 18,
   "metadata": {},
   "outputs": [],
   "source": [
    "ex_ig = client.run_explanation(\n",
    "    project_id=project_id,\n",
    "    model_id=model_id_tf, \n",
    "    df=selected_point, \n",
    "    dataset_id='heart_disease',\n",
    "    explanations='ig')"
   ]
  },
  {
   "cell_type": "code",
   "execution_count": 19,
   "metadata": {},
   "outputs": [
    {
     "data": {
      "image/png": "[encoded data removed]",
      "text/plain": [
       "<Figure size 864x432 with 1 Axes>"
      ]
     },
     "metadata": {
      "needs_background": "light"
     },
     "output_type": "display_data"
    }
   ],
   "source": [
    "import matplotlib.pyplot as plt\n",
    "import numpy as np\n",
    "%matplotlib inline\n",
    "\n",
    "fig = plt.figure(figsize=(12, 6))\n",
    "num_features = selected_point.shape[1] - 1\n",
    "sorted_att_list = sorted(list(zip(np.abs(ex_ig.attributions), ex_ig.inputs, ex_ig.attributions)),\n",
    "                         reverse=True)\n",
    "out_list = [[f[1], f[2]] for f in sorted_att_list]\n",
    "out_list = np.asarray(out_list[::-1])\n",
    "\n",
    "plt.barh(list(range(num_features)), out_list[:,1].astype('float'))\n",
    "plt.yticks(list(range(num_features)), out_list[:,0]);\n",
    "plt.xlabel('Attribution')\n",
    "plt.title(f'Top IG attributions for heart disease model')\n",
    "plt.show()"
   ]
  },
  {
   "cell_type": "code",
   "execution_count": null,
   "metadata": {},
   "outputs": [],
   "source": []
  }
 ],
 "metadata": {
  "kernelspec": {
   "display_name": "Python 3",
   "language": "python",
   "name": "python3"
  },
  "language_info": {
   "codemirror_mode": {
    "name": "ipython",
    "version": 3
   },
   "file_extension": ".py",
   "mimetype": "text/x-python",
   "name": "python",
   "nbconvert_exporter": "python",
   "pygments_lexer": "ipython3",
   "version": "3.7.9"
  }
 },
 "nbformat": 4,
 "nbformat_minor": 2
}
