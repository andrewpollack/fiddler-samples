{
 "cells": [
  {
   "cell_type": "code",
   "execution_count": 1,
   "metadata": {},
   "outputs": [],
   "source": [
    "import os\n",
    "\n",
    "import matplotlib.pyplot as plt\n",
    "import numpy as np\n",
    "import pandas as pd\n",
    "import seaborn as sns\n",
    "\n",
    "import fiddler as fdl\n",
    "\n",
    "%matplotlib inline"
   ]
  },
  {
   "cell_type": "code",
   "execution_count": 2,
   "metadata": {},
   "outputs": [],
   "source": [
    "# use the nicer plotting styles from seaborn\n",
    "sns.set()"
   ]
  },
  {
   "cell_type": "code",
   "execution_count": 3,
   "metadata": {},
   "outputs": [],
   "source": [
    "%load_ext autoreload\n",
    "%autoreload 2"
   ]
  },
  {
   "cell_type": "markdown",
   "metadata": {},
   "source": [
    "# Intro\n",
    "This notebook assumes you already have the models and data you're interested in using uploaded to Fiddler. Please refer to the previous notebook in this series for more information on uploading to Fiddler. You will also need to have run notebook 1 in order to upload the bikesharing example used in this notebook.\n",
    "\n",
    "In this notebook we run through a number of other Fiddler functionalities that have been integrated into the Python package. Unlike the previous notebook, there is not as much of a sequential flow to the steps demonstrated here.\n",
    "\n",
    "## Before you start: set up your API connection\n",
    "\n",
    "### Launch onebox or authenticate with a remote server\n",
    "Before you can start working with a Fiddler-integrated Jupyter environment, you should set up access to a running instance of Fiddler.\n",
    "\n",
    "#### Onebox\n",
    "In onebox, this means running the `start.sh` script to launch onebox locally.\n",
    "\n",
    "#### Cloud\n",
    "For the cloud version of our product, this means looking up your authentication token in the [Fiddler settings dashboard](https://app.fiddler.ai/settings/credentials)\n",
    "\n",
    "### Create a FiddlerApi object\n",
    "\n",
    "In order to get your data and models into the Fiddler Engine, you'll need to connect using the API. The `FiddlerApi` object to handles most of the nitty-gritty for you, so all you have to do is specify some details about the Fiddler system you're connecting to."
   ]
  },
  {
   "cell_type": "code",
   "execution_count": 4,
   "metadata": {},
   "outputs": [],
   "source": [
    "client = fdl.FiddlerApi()"
   ]
  },
  {
   "cell_type": "markdown",
   "metadata": {},
   "source": [
    "## Pulling data from Fiddler"
   ]
  },
  {
   "cell_type": "code",
   "execution_count": 5,
   "metadata": {},
   "outputs": [
    {
     "data": {
      "text/plain": [
       "['bank_churn',\n",
       " 'heart_disease',\n",
       " 'imdb_rnn',\n",
       " 'iris',\n",
       " 'p2p_loans',\n",
       " 'titanic',\n",
       " 'winequality',\n",
       " 'wine_quality',\n",
       " 'p2p_loans1',\n",
       " '20news',\n",
       " 'loan_status',\n",
       " 'bike_share',\n",
       " 'housing_prices']"
      ]
     },
     "execution_count": 5,
     "metadata": {},
     "output_type": "execute_result"
    }
   ],
   "source": [
    "# let's see which datasets we have on Fiddler\n",
    "client.list_datasets()"
   ]
  },
  {
   "cell_type": "code",
   "execution_count": 6,
   "metadata": {},
   "outputs": [],
   "source": [
    "from sklearn.model_selection import train_test_split\n",
    "\n",
    "dataset_id = 'bike_share'\n",
    "\n",
    "# client.delete_dataset(dataset_id)\n",
    "if dataset_id not in client.list_datasets():\n",
    "    df = pd.read_csv('/app/fiddler_samples/samples/datasets/bike_share/bike_share_train.csv')\n",
    "    df_schema = fdl.DatasetInfo.from_dataframe(df, max_inferred_cardinality=1000)\n",
    "    train, test = train_test_split(df, test_size=0.2, random_state=42, shuffle=True)\n",
    "    upload_result = client.upload_dataset(\n",
    "        dataset={'train': train, 'test': test}, \n",
    "        dataset_id=dataset_id,\n",
    "        info=df_schema)\n"
   ]
  },
  {
   "cell_type": "code",
   "execution_count": 7,
   "metadata": {},
   "outputs": [
    {
     "data": {
      "text/plain": [
       "DatasetInfo:\n",
       "  display_name: \n",
       "  files: ['train.csv', 'test.csv']\n",
       "  columns:\n",
       "            column     dtype count(possible_values) is_nullable    value_range\n",
       "    0      instant   INTEGER                              False      1 - 8,645\n",
       "    1       dteday  CATEGORY                    365       False               \n",
       "    2       season   INTEGER                              False      1 - 4    \n",
       "    3           yr   BOOLEAN                              False               \n",
       "    4         mnth   INTEGER                              False      1 - 12   \n",
       "    5           hr   INTEGER                              False      0 - 23   \n",
       "    6      holiday   BOOLEAN                              False               \n",
       "    7      weekday   INTEGER                              False      0 - 6    \n",
       "    8   workingday   BOOLEAN                              False               \n",
       "    9   weathersit   INTEGER                              False      1 - 4    \n",
       "    10        temp     FLOAT                              False   0.02 - 0.96 \n",
       "    11       atemp     FLOAT                              False    0.0 - 1.0  \n",
       "    12         hum     FLOAT                              False    0.0 - 1.0  \n",
       "    13   windspeed     FLOAT                              False    0.0 - 0.851\n",
       "    14      casual   INTEGER                              False      0 - 272  \n",
       "    15  registered   INTEGER                              False      0 - 567  \n",
       "    16         cnt   INTEGER                              False      1 - 651  "
      ]
     },
     "execution_count": 7,
     "metadata": {},
     "output_type": "execute_result"
    }
   ],
   "source": [
    "# the info for any dataset can quickly and easily be fetched with the `dataset_info` method\n",
    "bikeshare_dataset_info = client.get_dataset_info(dataset_id)\n",
    "bikeshare_dataset_info"
   ]
  },
  {
   "cell_type": "code",
   "execution_count": 8,
   "metadata": {},
   "outputs": [
    {
     "name": "stdout",
     "output_type": "stream",
     "text": [
      "The bikeshare_dataset object is a <class 'dict'> with keys (['train', 'test'])\n"
     ]
    },
    {
     "data": {
      "text/html": [
       "<div>\n",
       "<style scoped>\n",
       "    .dataframe tbody tr th:only-of-type {\n",
       "        vertical-align: middle;\n",
       "    }\n",
       "\n",
       "    .dataframe tbody tr th {\n",
       "        vertical-align: top;\n",
       "    }\n",
       "\n",
       "    .dataframe thead th {\n",
       "        text-align: right;\n",
       "    }\n",
       "</style>\n",
       "<table border=\"1\" class=\"dataframe\">\n",
       "  <thead>\n",
       "    <tr style=\"text-align: right;\">\n",
       "      <th></th>\n",
       "      <th>527</th>\n",
       "      <th>5525</th>\n",
       "      <th>3909</th>\n",
       "    </tr>\n",
       "  </thead>\n",
       "  <tbody>\n",
       "    <tr>\n",
       "      <th>instant</th>\n",
       "      <td>7350</td>\n",
       "      <td>7167</td>\n",
       "      <td>5730</td>\n",
       "    </tr>\n",
       "    <tr>\n",
       "      <th>dteday</th>\n",
       "      <td>2011-11-07</td>\n",
       "      <td>2011-10-31</td>\n",
       "      <td>2011-09-01</td>\n",
       "    </tr>\n",
       "    <tr>\n",
       "      <th>season</th>\n",
       "      <td>4</td>\n",
       "      <td>4</td>\n",
       "      <td>3</td>\n",
       "    </tr>\n",
       "    <tr>\n",
       "      <th>yr</th>\n",
       "      <td>False</td>\n",
       "      <td>False</td>\n",
       "      <td>False</td>\n",
       "    </tr>\n",
       "    <tr>\n",
       "      <th>mnth</th>\n",
       "      <td>11</td>\n",
       "      <td>10</td>\n",
       "      <td>9</td>\n",
       "    </tr>\n",
       "    <tr>\n",
       "      <th>hr</th>\n",
       "      <td>20</td>\n",
       "      <td>5</td>\n",
       "      <td>4</td>\n",
       "    </tr>\n",
       "    <tr>\n",
       "      <th>holiday</th>\n",
       "      <td>False</td>\n",
       "      <td>False</td>\n",
       "      <td>False</td>\n",
       "    </tr>\n",
       "    <tr>\n",
       "      <th>weekday</th>\n",
       "      <td>1</td>\n",
       "      <td>1</td>\n",
       "      <td>4</td>\n",
       "    </tr>\n",
       "    <tr>\n",
       "      <th>workingday</th>\n",
       "      <td>True</td>\n",
       "      <td>True</td>\n",
       "      <td>True</td>\n",
       "    </tr>\n",
       "    <tr>\n",
       "      <th>weathersit</th>\n",
       "      <td>1</td>\n",
       "      <td>1</td>\n",
       "      <td>1</td>\n",
       "    </tr>\n",
       "    <tr>\n",
       "      <th>temp</th>\n",
       "      <td>0.4</td>\n",
       "      <td>0.22</td>\n",
       "      <td>0.56</td>\n",
       "    </tr>\n",
       "    <tr>\n",
       "      <th>atemp</th>\n",
       "      <td>0.4091</td>\n",
       "      <td>0.2727</td>\n",
       "      <td>0.5303</td>\n",
       "    </tr>\n",
       "    <tr>\n",
       "      <th>hum</th>\n",
       "      <td>0.71</td>\n",
       "      <td>0.93</td>\n",
       "      <td>0.83</td>\n",
       "    </tr>\n",
       "    <tr>\n",
       "      <th>windspeed</th>\n",
       "      <td>0</td>\n",
       "      <td>0</td>\n",
       "      <td>0.0896</td>\n",
       "    </tr>\n",
       "    <tr>\n",
       "      <th>casual</th>\n",
       "      <td>17</td>\n",
       "      <td>0</td>\n",
       "      <td>0</td>\n",
       "    </tr>\n",
       "    <tr>\n",
       "      <th>registered</th>\n",
       "      <td>187</td>\n",
       "      <td>18</td>\n",
       "      <td>7</td>\n",
       "    </tr>\n",
       "    <tr>\n",
       "      <th>cnt</th>\n",
       "      <td>204</td>\n",
       "      <td>18</td>\n",
       "      <td>7</td>\n",
       "    </tr>\n",
       "  </tbody>\n",
       "</table>\n",
       "</div>"
      ],
      "text/plain": [
       "                  527         5525        3909\n",
       "instant           7350        7167        5730\n",
       "dteday      2011-11-07  2011-10-31  2011-09-01\n",
       "season               4           4           3\n",
       "yr               False       False       False\n",
       "mnth                11          10           9\n",
       "hr                  20           5           4\n",
       "holiday          False       False       False\n",
       "weekday              1           1           4\n",
       "workingday        True        True        True\n",
       "weathersit           1           1           1\n",
       "temp               0.4        0.22        0.56\n",
       "atemp           0.4091      0.2727      0.5303\n",
       "hum               0.71        0.93        0.83\n",
       "windspeed            0           0      0.0896\n",
       "casual              17           0           0\n",
       "registered         187          18           7\n",
       "cnt                204          18           7"
      ]
     },
     "execution_count": 8,
     "metadata": {},
     "output_type": "execute_result"
    }
   ],
   "source": [
    "# we can also pull data from the dataset directly into Pandas\n",
    "bikeshare_dataset = client.get_dataset(dataset_id, max_rows=999_999)\n",
    "print(f'The bikeshare_dataset object is a {type(bikeshare_dataset)} with keys ({list(bikeshare_dataset.keys())})')\n",
    "\n",
    "df_train = bikeshare_dataset['train']\n",
    "df_test = bikeshare_dataset['test']\n",
    "\n",
    "# demo the data\n",
    "df_train.sample(3, random_state=0).T"
   ]
  },
  {
   "cell_type": "code",
   "execution_count": 9,
   "metadata": {},
   "outputs": [
    {
     "data": {
      "text/plain": [
       "<matplotlib.axes._subplots.AxesSubplot at 0x7fa450083ba8>"
      ]
     },
     "execution_count": 9,
     "metadata": {},
     "output_type": "execute_result"
    },
    {
     "data": {
      "image/png": "[encoded data removed]",
      "text/plain": [
       "<Figure size 432x288 with 1 Axes>"
      ]
     },
     "metadata": {},
     "output_type": "display_data"
    }
   ],
   "source": [
    "# for example, let's plot a regression plot of the target (cnt) against the temperature feature (temp)\n",
    "sns.regplot(df_train['temp'], df_train['cnt'], marker='.', scatter_kws=dict(alpha=0.1))"
   ]
  },
  {
   "cell_type": "markdown",
   "metadata": {},
   "source": [
    "## Using the Fiddler model-builder feature\n",
    "If you have data but haven't built a model yet, you can take advantage of the model-builder feature to whip up a model instantly so you can dive right into running explanations."
   ]
  },
  {
   "cell_type": "code",
   "execution_count": 10,
   "metadata": {},
   "outputs": [
    {
     "data": {
      "text/plain": [
       "['instant',\n",
       " 'dteday',\n",
       " 'season',\n",
       " 'yr',\n",
       " 'mnth',\n",
       " 'hr',\n",
       " 'holiday',\n",
       " 'weekday',\n",
       " 'workingday',\n",
       " 'weathersit',\n",
       " 'temp',\n",
       " 'atemp',\n",
       " 'hum',\n",
       " 'windspeed',\n",
       " 'casual',\n",
       " 'registered',\n",
       " 'cnt']"
      ]
     },
     "execution_count": 10,
     "metadata": {},
     "output_type": "execute_result"
    }
   ],
   "source": [
    "bikeshare_dataset_info.get_column_names()"
   ]
  },
  {
   "cell_type": "code",
   "execution_count": null,
   "metadata": {},
   "outputs": [],
   "source": [
    "# fiddler_api.delete_model('bikeshare_forecasting', 'generated_bikeshare_model')"
   ]
  },
  {
   "cell_type": "code",
   "execution_count": 11,
   "metadata": {},
   "outputs": [
    {
     "data": {
      "text/plain": [
       "{'created_files': {'training_targets.pkl': 'Serialized training data',\n",
       "  'train.ipynb': 'Miscellaneous file',\n",
       "  'data_processor.py': 'Data cleaning and feature engineering code',\n",
       "  'model.pkl': 'Serialized model artifact.',\n",
       "  'training.log': 'Miscellaneous file',\n",
       "  'package.py': 'Wrapper code to run the model on the Fiddler engine',\n",
       "  'model.yaml': 'Model metadata and configuration',\n",
       "  'training_features.pkl': 'Serialized training data',\n",
       "  'processor.pkl': 'Serialized model artifact.',\n",
       "  '__init__.py': 'Empty file. Makes this model directory a python package so the Fiddler engine can run it properly.',\n",
       "  'train.py': 'Model training script'},\n",
       " 'project_name': 'tutorial',\n",
       " 'model_name': 'bikeshare_model'}"
      ]
     },
     "execution_count": 11,
     "metadata": {},
     "output_type": "execute_result"
    }
   ],
   "source": [
    "# NOTE: to avoid training on the whole dataset, we pass `train_splits`\n",
    "project_id = 'tutorial'\n",
    "model_id='bikeshare_model'\n",
    "client.delete_model(project_id, model_id)\n",
    "features = list(set(bikeshare_dataset_info.get_column_names()) - {'casual', 'registered', 'cnt', 'dteday'})\n",
    "client.create_model(project_id=project_id, \n",
    "                         dataset_id=dataset_id,\n",
    "                         target='cnt',\n",
    "                         features=features,\n",
    "                         model_id=model_id,\n",
    "                         train_splits=['train'])"
   ]
  },
  {
   "cell_type": "code",
   "execution_count": 12,
   "metadata": {},
   "outputs": [
    {
     "data": {
      "text/plain": [
       "['sagemaker_hosted_model',\n",
       " 'external_model',\n",
       " 'debug_model',\n",
       " 'loan_status',\n",
       " 'titanic',\n",
       " 'wine_quality_model',\n",
       " 'bikeshare_model']"
      ]
     },
     "execution_count": 12,
     "metadata": {},
     "output_type": "execute_result"
    }
   ],
   "source": [
    "# the new model shows up when we list the models in the bikeshare_forecasting project\n",
    "client.list_models(project_id=project_id)"
   ]
  },
  {
   "cell_type": "markdown",
   "metadata": {},
   "source": [
    "## Explanations in Jupyter\n",
    "We also support basic integration of our explanation and prediction functionality in Jupyter. The `FiddlerApi` object is your friend here."
   ]
  },
  {
   "cell_type": "code",
   "execution_count": 13,
   "metadata": {},
   "outputs": [
    {
     "data": {
      "text/html": [
       "<div>\n",
       "<style scoped>\n",
       "    .dataframe tbody tr th:only-of-type {\n",
       "        vertical-align: middle;\n",
       "    }\n",
       "\n",
       "    .dataframe tbody tr th {\n",
       "        vertical-align: top;\n",
       "    }\n",
       "\n",
       "    .dataframe thead th {\n",
       "        text-align: right;\n",
       "    }\n",
       "</style>\n",
       "<table border=\"1\" class=\"dataframe\">\n",
       "  <thead>\n",
       "    <tr style=\"text-align: right;\">\n",
       "      <th></th>\n",
       "      <th>predicted_cnt</th>\n",
       "    </tr>\n",
       "  </thead>\n",
       "  <tbody>\n",
       "    <tr>\n",
       "      <th>0</th>\n",
       "      <td>15.981523</td>\n",
       "    </tr>\n",
       "    <tr>\n",
       "      <th>1</th>\n",
       "      <td>115.775475</td>\n",
       "    </tr>\n",
       "    <tr>\n",
       "      <th>2</th>\n",
       "      <td>55.700033</td>\n",
       "    </tr>\n",
       "    <tr>\n",
       "      <th>3</th>\n",
       "      <td>-3.141459</td>\n",
       "    </tr>\n",
       "    <tr>\n",
       "      <th>4</th>\n",
       "      <td>125.285065</td>\n",
       "    </tr>\n",
       "    <tr>\n",
       "      <th>5</th>\n",
       "      <td>197.201816</td>\n",
       "    </tr>\n",
       "    <tr>\n",
       "      <th>6</th>\n",
       "      <td>2.645674</td>\n",
       "    </tr>\n",
       "    <tr>\n",
       "      <th>7</th>\n",
       "      <td>80.659189</td>\n",
       "    </tr>\n",
       "    <tr>\n",
       "      <th>8</th>\n",
       "      <td>15.146074</td>\n",
       "    </tr>\n",
       "    <tr>\n",
       "      <th>9</th>\n",
       "      <td>372.477352</td>\n",
       "    </tr>\n",
       "  </tbody>\n",
       "</table>\n",
       "</div>"
      ],
      "text/plain": [
       "   predicted_cnt\n",
       "0      15.981523\n",
       "1     115.775475\n",
       "2      55.700033\n",
       "3      -3.141459\n",
       "4     125.285065\n",
       "5     197.201816\n",
       "6       2.645674\n",
       "7      80.659189\n",
       "8      15.146074\n",
       "9     372.477352"
      ]
     },
     "execution_count": 13,
     "metadata": {},
     "output_type": "execute_result"
    }
   ],
   "source": [
    "client.run_model(project_id=project_id, model_id=model_id, df=df_test.head(10))"
   ]
  },
  {
   "cell_type": "markdown",
   "metadata": {},
   "source": [
    "# Conclusion\n",
    "As we have seen in this notebook, once data and models have been deployed to Fiddler, it becomes very easy to share the data, automatically train a model on Fiddler, and run explanations all without leaving"
   ]
  }
 ],
 "metadata": {
  "kernelspec": {
   "display_name": "Python 3",
   "language": "python",
   "name": "python3"
  },
  "language_info": {
   "codemirror_mode": {
    "name": "ipython",
    "version": 3
   },
   "file_extension": ".py",
   "mimetype": "text/x-python",
   "name": "python",
   "nbconvert_exporter": "python",
   "pygments_lexer": "ipython3",
   "version": "3.7.3"
  }
 },
 "nbformat": 4,
 "nbformat_minor": 2
}
