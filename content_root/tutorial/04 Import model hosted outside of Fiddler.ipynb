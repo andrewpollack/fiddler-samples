{
 "cells": [
  {
   "cell_type": "markdown",
   "metadata": {},
   "source": [
    "## Input fiddler client"
   ]
  },
  {
   "cell_type": "code",
   "execution_count": null,
   "metadata": {},
   "outputs": [],
   "source": [
    "import fiddler as fdl\n",
    "import pandas as pd\n",
    "\n",
    "client = fdl.FiddlerApi()"
   ]
  },
  {
   "cell_type": "markdown",
   "metadata": {},
   "source": [
    "If dataset is already in Fiddler, just use it. Otherwise upload it."
   ]
  },
  {
   "cell_type": "code",
   "execution_count": null,
   "metadata": {},
   "outputs": [],
   "source": [
    "if 'wine_quality' in client.list_datasets():\n",
    "    df_schema = client.get_dataset_info('wine_quality')\n",
    "    df = client.get_dataset('wine_quality')['train']\n",
    "else:\n",
    "    df = pd.read_csv('/app/fiddler_samples/samples/datasets/winequality/train.csv')\n",
    "    df_schema = fdl.DatasetInfo.from_dataframe(df, max_inferred_cardinality=1000)\n",
    "    upload_result = client.upload_dataset(\n",
    "        dataset={'train': df}, \n",
    "        dataset_id='wine_quality')"
   ]
  },
  {
   "cell_type": "markdown",
   "metadata": {},
   "source": [
    "## Create model schema"
   ]
  },
  {
   "cell_type": "code",
   "execution_count": null,
   "metadata": {
    "scrolled": false
   },
   "outputs": [],
   "source": [
    "target = 'quality'\n",
    "\n",
    "feature_columns = df_schema.get_column_names()\n",
    "feature_columns.remove('row_id')\n",
    "feature_columns.remove(target)\n",
    "\n",
    "model_info = fdl.ModelInfo.from_dataset_info(\n",
    "    dataset_info=df_schema,\n",
    "    target=target, \n",
    "    features=feature_columns,\n",
    "    display_name='external model',\n",
    "    description='this is an external model called from fiddler via rest API'\n",
    ")"
   ]
  },
  {
   "cell_type": "markdown",
   "metadata": {},
   "source": [
    "# Write model schema"
   ]
  },
  {
   "cell_type": "code",
   "execution_count": null,
   "metadata": {},
   "outputs": [],
   "source": [
    "import pathlib\n",
    "import shutil\n",
    "import yaml\n",
    "\n",
    "model_dir = pathlib.Path('external_model')\n",
    "shutil.rmtree(model_dir, ignore_errors=True)\n",
    "model_dir.mkdir()\n",
    "\n",
    "with open(model_dir / 'model.yaml', 'w') as yaml_file:\n",
    "    yaml.dump({'model': model_info.to_dict()}, yaml_file)\n"
   ]
  },
  {
   "cell_type": "markdown",
   "metadata": {},
   "source": [
    "## Write package.py"
   ]
  },
  {
   "cell_type": "code",
   "execution_count": null,
   "metadata": {},
   "outputs": [],
   "source": [
    "%%writefile external_model/package.py\n",
    "\n",
    "from pathlib import Path\n",
    "import pandas as pd\n",
    "import requests\n",
    "import json\n",
    "import logging\n",
    "\n",
    "# make sure model generated in tutorial 02 is deployed to server\n",
    "external_model_endpoint = 'http://host.docker.internal:5100/execute/onebox/tutorial/wine_quality_model'\n",
    "\n",
    "\n",
    "class ExternalModelPackage:\n",
    "    is_classifier = False\n",
    "\n",
    "    def predict(self, input_df):\n",
    "        logging.info(f'input df: {input_df}')\n",
    "        # convert input datafrme to a format that external model accepts\n",
    "        data_array = [y.iloc[0,:].to_dict() for x , y in input_df.groupby(level=0)]\n",
    "        data = dict(data=data_array)\n",
    "        json_input = json.dumps(data)\n",
    "\n",
    "        # call external service\n",
    "        json_result = self.invoke_external_model(json_input)\n",
    "        \n",
    "        # convert response back to dataframe\n",
    "        return pd.DataFrame(json_result)\n",
    "    \n",
    "    # invoke the externa model using API\n",
    "    def invoke_external_model(self, json_input):\n",
    "        logging.info(f'input json: {json_input}')\n",
    "        headers = {'Content-type': 'application/json'}\n",
    "        result = requests.post(external_model_endpoint, \n",
    "                               headers=headers, \n",
    "                               data=json_input)\n",
    "        logging.info(f'result: {result}')\n",
    "        return result.json()['result']\n",
    "    \n",
    "def get_model():\n",
    "    return ExternalModelPackage()\n"
   ]
  },
  {
   "cell_type": "markdown",
   "metadata": {},
   "source": [
    "# Upload model"
   ]
  },
  {
   "cell_type": "code",
   "execution_count": null,
   "metadata": {},
   "outputs": [],
   "source": [
    "project_id = 'tutorial'\n",
    "model_id = 'external_model'\n",
    "client.delete_model(project_id, model_id)\n",
    "client.upload_model_package(model_dir, project_id, model_id)"
   ]
  },
  {
   "cell_type": "markdown",
   "metadata": {},
   "source": [
    "# Test model"
   ]
  },
  {
   "cell_type": "code",
   "execution_count": null,
   "metadata": {},
   "outputs": [],
   "source": [
    "client.run_model(project_id, model_id, df[0:20])"
   ]
  }
 ],
 "metadata": {
  "kernelspec": {
   "display_name": "Python 3",
   "language": "python",
   "name": "python3"
  },
  "language_info": {
   "codemirror_mode": {
    "name": "ipython",
    "version": 3
   },
   "file_extension": ".py",
   "mimetype": "text/x-python",
   "name": "python",
   "nbconvert_exporter": "python",
   "pygments_lexer": "ipython3",
   "version": "3.7.3"
  }
 },
 "nbformat": 4,
 "nbformat_minor": 2
}
