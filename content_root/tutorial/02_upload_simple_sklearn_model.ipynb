{
 "cells": [
  {
   "cell_type": "markdown",
   "metadata": {},
   "source": [
    "## Initialize Fiddler Client\n"
   ]
  },
  {
   "cell_type": "code",
   "execution_count": 1,
   "metadata": {},
   "outputs": [],
   "source": [
    "import fiddler as fdl\n",
    "\n",
    "client = fdl.FiddlerApi(\n",
    "    url='http://host.docker.internal:4100', \n",
    "    org_id='onebox', \n",
    "    auth_token='Sxcg0eCz8aJKUXnrAMOB6EQ8FUuS-hgZvqlQXg-0R6c'\n",
    ")\n"
   ]
  },
  {
   "cell_type": "markdown",
   "metadata": {},
   "source": [
    "## Load dataset\n"
   ]
  },
  {
   "cell_type": "code",
   "execution_count": 3,
   "metadata": {},
   "outputs": [],
   "source": [
    "import pandas as pd\n",
    "df = pd.read_csv('/app/fiddler_samples/samples/datasets/winequality/train.csv')\n",
    "df_schema = fdl.DatasetInfo.from_dataframe(df, max_inferred_cardinality=1000)\n"
   ]
  },
  {
   "cell_type": "code",
   "execution_count": 4,
   "metadata": {},
   "outputs": [
    {
     "data": {
      "text/plain": [
       "DatasetInfo:\n",
       "  display_name: \n",
       "  files: []\n",
       "  columns:\n",
       "                      column    dtype count(possible_values) is_nullable  \\\n",
       "    0                 row_id  INTEGER                              False   \n",
       "    1          fixed acidity    FLOAT                              False   \n",
       "    2       volatile acidity    FLOAT                              False   \n",
       "    3            citric acid    FLOAT                              False   \n",
       "    4         residual sugar    FLOAT                              False   \n",
       "    5              chlorides    FLOAT                              False   \n",
       "    6    free sulfur dioxide    FLOAT                              False   \n",
       "    7   total sulfur dioxide    FLOAT                              False   \n",
       "    8                density    FLOAT                              False   \n",
       "    9                     pH    FLOAT                              False   \n",
       "    10             sulphates    FLOAT                              False   \n",
       "    11               alcohol    FLOAT                              False   \n",
       "    12               quality  INTEGER                              False   \n",
       "\n",
       "          value_range  \n",
       "    0       0 - 1,597  \n",
       "    1     4.7 - 15.9   \n",
       "    2    0.12 - 1.58   \n",
       "    3     0.0 - 1.0    \n",
       "    4     0.9 - 15.5   \n",
       "    5   0.012 - 0.611  \n",
       "    6     1.0 - 72.0   \n",
       "    7     6.0 - 289.0  \n",
       "    8    0.99 - 1.004  \n",
       "    9    2.74 - 4.01   \n",
       "    10   0.37 - 2.0    \n",
       "    11    8.4 - 14.9   \n",
       "    12      3 - 8      "
      ]
     },
     "execution_count": 4,
     "metadata": {},
     "output_type": "execute_result"
    }
   ],
   "source": [
    "df_schema"
   ]
  },
  {
   "cell_type": "code",
   "execution_count": 5,
   "metadata": {},
   "outputs": [
    {
     "name": "stderr",
     "output_type": "stream",
     "text": [
      "Heads up! We are inferring the details of your dataset from the dataframe(s) provided. Please take a second to check our work.\n",
      "\n",
      "If the following DatasetInfo is an incorrect representation of your data, you can construct a DatasetInfo with the DatasetInfo.from_dataframe() method and modify that object to reflect the correct details of your dataset.\n",
      "\n",
      "After constructing a corrected DatasetInfo, please re-upload your dataset with that DatasetInfo object explicitly passed via the `info` parameter of FiddlerApi.upload_dataset().\n",
      "\n",
      "You may need to delete the initially uploaded versionvia FiddlerApi.delete_dataset('wine_quality').\n",
      "\n",
      "Inferred DatasetInfo to check:\n",
      "  DatasetInfo:\n",
      "    display_name: \n",
      "    files: []\n",
      "    columns:\n",
      "                        column    dtype count(possible_values) is_nullable  \\\n",
      "      0                 row_id  INTEGER                              False   \n",
      "      1          fixed acidity    FLOAT                              False   \n",
      "      2       volatile acidity    FLOAT                              False   \n",
      "      3            citric acid    FLOAT                              False   \n",
      "      4         residual sugar    FLOAT                              False   \n",
      "      5              chlorides    FLOAT                              False   \n",
      "      6    free sulfur dioxide    FLOAT                              False   \n",
      "      7   total sulfur dioxide    FLOAT                              False   \n",
      "      8                density    FLOAT                              False   \n",
      "      9                     pH    FLOAT                              False   \n",
      "      10             sulphates    FLOAT                              False   \n",
      "      11               alcohol    FLOAT                              False   \n",
      "      12               quality  INTEGER                              False   \n",
      "\n",
      "            value_range  \n",
      "      0       0 - 1,597  \n",
      "      1     4.7 - 15.9   \n",
      "      2    0.12 - 1.58   \n",
      "      3     0.0 - 1.0    \n",
      "      4     0.9 - 15.5   \n",
      "      5   0.012 - 0.611  \n",
      "      6     1.0 - 72.0   \n",
      "      7     6.0 - 289.0  \n",
      "      8    0.99 - 1.004  \n",
      "      9    2.74 - 4.01   \n",
      "      10   0.37 - 2.0    \n",
      "      11    8.4 - 14.9   \n",
      "      12      3 - 8      \n"
     ]
    },
    {
     "data": {
      "text/plain": [
       "{'row_count': 1119,\n",
       " 'col_count': 13,\n",
       " 'log': ['Importing dataset wine_quality',\n",
       "  'Creating table for wine_quality',\n",
       "  'Importing data file: train.csv']}"
      ]
     },
     "execution_count": 5,
     "metadata": {},
     "output_type": "execute_result"
    }
   ],
   "source": [
    "upload_result = client.upload_dataset(\n",
    "    dataset={'train': df}, \n",
    "    dataset_id='wine_quality')\n",
    "upload_result"
   ]
  },
  {
   "cell_type": "code",
   "execution_count": 7,
   "metadata": {},
   "outputs": [
    {
     "data": {
      "text/plain": [
       "ModelInfo:\n",
       "  display_name: sklearn model\n",
       "  description: this is a sklearn model from tutorial\n",
       "  input_type: ModelInputType.TABULAR\n",
       "  model_task: ModelTask.REGRESSION\n",
       "  inputs:\n",
       "                      column  dtype count(possible_values) is_nullable  \\\n",
       "    0          fixed acidity  FLOAT                              False   \n",
       "    1       volatile acidity  FLOAT                              False   \n",
       "    2            citric acid  FLOAT                              False   \n",
       "    3         residual sugar  FLOAT                              False   \n",
       "    4              chlorides  FLOAT                              False   \n",
       "    5    free sulfur dioxide  FLOAT                              False   \n",
       "    6   total sulfur dioxide  FLOAT                              False   \n",
       "    7                density  FLOAT                              False   \n",
       "    8                     pH  FLOAT                              False   \n",
       "    9              sulphates  FLOAT                              False   \n",
       "    10               alcohol  FLOAT                              False   \n",
       "\n",
       "          value_range  \n",
       "    0     4.7 - 15.9   \n",
       "    1    0.12 - 1.58   \n",
       "    2     0.0 - 1.0    \n",
       "    3     0.9 - 15.5   \n",
       "    4   0.012 - 0.611  \n",
       "    5     1.0 - 72.0   \n",
       "    6     6.0 - 289.0  \n",
       "    7    0.99 - 1.004  \n",
       "    8    2.74 - 4.01   \n",
       "    9    0.37 - 2.0    \n",
       "    10    8.4 - 14.9   \n",
       "  outputs:\n",
       "                  column  dtype count(possible_values) is_nullable value_range\n",
       "    0  predicted_quality  FLOAT                              False       * - *\n",
       "\n",
       "\n",
       "  targets: [Column(name=\"quality\", data_type=DataType.INTEGER, possible_values=None, is_nullable=False, value_range_min=3, value_range_max=8)]\n",
       "  misc:\n",
       "    {}"
      ]
     },
     "execution_count": 7,
     "metadata": {},
     "output_type": "execute_result"
    }
   ],
   "source": [
    "feature_columns = ['fixed acidity', 'volatile acidity', 'citric acid',\n",
    "                   'residual sugar','chlorides','free sulfur dioxide','total sulfur dioxide',\n",
    "                   'density','pH','sulphates','alcohol']\n",
    "target = 'quality'\n",
    "model_info = fdl.ModelInfo.from_dataset_info(\n",
    "    dataset_info=client.get_dataset_info('wine_quality'),\n",
    "    target=target, \n",
    "    features=feature_columns,\n",
    "    display_name='sklearn model',\n",
    "    description='this is a sklearn model from tutorial'\n",
    ")\n",
    "model_info"
   ]
  },
  {
   "cell_type": "code",
   "execution_count": 15,
   "metadata": {},
   "outputs": [
    {
     "data": {
      "text/plain": [
       "array([6.50506782, 6.65427237, 5.35208865, ..., 5.27678525, 6.36560789,\n",
       "       4.44488096])"
      ]
     },
     "execution_count": 15,
     "metadata": {},
     "output_type": "execute_result"
    }
   ],
   "source": [
    "import sklearn.linear_model\n",
    "import sklearn.pipeline\n",
    "import sklearn.preprocessing\n",
    "\n",
    "train_input = df.drop(columns=['row_id', 'quality'])\n",
    "train_target = df['quality']\n",
    "\n",
    "regressor = sklearn.linear_model.LinearRegression()\n",
    "\n",
    "full_model = sklearn.pipeline.Pipeline(steps=[\n",
    "        ('standard_scaling', sklearn.preprocessing.StandardScaler()),\n",
    "        ('model_name', regressor),\n",
    "    ])\n",
    "\n",
    "full_model.fit(train_input, train_target)\n",
    "full_model.predict(train_input)\n"
   ]
  },
  {
   "cell_type": "code",
   "execution_count": 34,
   "metadata": {},
   "outputs": [],
   "source": [
    "import pathlib\n",
    "import shutil\n",
    "import pickle\n",
    "import yaml\n",
    "\n",
    "model_dir = pathlib.Path('wine_quality_model')\n",
    "shutil.rmtree(model_dir, ignore_errors=True)\n",
    "model_dir.mkdir()\n",
    "\n",
    "with open(model_dir / 'model.pkl', 'wb') as pkl_file:\n",
    "    pickle.dump(full_model, pkl_file)\n",
    "\n",
    "with open(model_dir / 'model.yaml', 'w') as yaml_file:\n",
    "    yaml.dump({'model': model_info.to_dict()}, yaml_file)\n"
   ]
  },
  {
   "cell_type": "code",
   "execution_count": 36,
   "metadata": {},
   "outputs": [
    {
     "name": "stdout",
     "output_type": "stream",
     "text": [
      "Writing wine_quality_model/package.py\n"
     ]
    }
   ],
   "source": [
    "%%writefile wine_quality_model/package.py\n",
    "\n",
    "import pickle\n",
    "from pathlib import Path\n",
    "import pandas as pd\n",
    "\n",
    "PACKAGE_PATH = Path(__file__).parent\n",
    "\n",
    "class SklearnModelPackage:\n",
    "    is_classifier = False\n",
    "    output_columns = ['predicted_quality']\n",
    "\n",
    "    def __init__(self):\n",
    "        with open(PACKAGE_PATH / 'model.pkl', 'rb') as infile:\n",
    "            self.model = pickle.load(infile)\n",
    "\n",
    "    def predict(self, input_df):\n",
    "        f = self.model.predict if not self.is_classifier else self.model.predict_proba\n",
    "        return pd.DataFrame(f(input_df), columns=self.output_columns)\n",
    "    \n",
    "def get_model():\n",
    "    return SklearnModelPackage()\n",
    "\n"
   ]
  },
  {
   "cell_type": "code",
   "execution_count": 37,
   "metadata": {},
   "outputs": [],
   "source": [
    "project_id = 'wine_quality'\n",
    "model_id = 'linear_regression'\n",
    "client.upload_model_package(model_dir, project_id, model_id)"
   ]
  }
 ],
 "metadata": {
  "kernelspec": {
   "display_name": "Python 3",
   "language": "python",
   "name": "python3"
  },
  "language_info": {
   "codemirror_mode": {
    "name": "ipython",
    "version": 3
   },
   "file_extension": ".py",
   "mimetype": "text/x-python",
   "name": "python",
   "nbconvert_exporter": "python",
   "pygments_lexer": "ipython3",
   "version": "3.7.3"
  }
 },
 "nbformat": 4,
 "nbformat_minor": 2
}
