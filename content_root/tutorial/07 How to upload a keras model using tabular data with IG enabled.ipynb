{
 "cells": [
  {
   "cell_type": "markdown",
   "metadata": {},
   "source": [
    "# Initialize Fiddler Client"
   ]
  },
  {
   "cell_type": "code",
   "execution_count": 1,
   "metadata": {},
   "outputs": [],
   "source": [
    "import fiddler as fdl\n",
    "client = fdl.FiddlerApi()"
   ]
  },
  {
   "cell_type": "markdown",
   "metadata": {},
   "source": [
    "# Load dataset"
   ]
  },
  {
   "cell_type": "code",
   "execution_count": 2,
   "metadata": {},
   "outputs": [],
   "source": [
    "import pandas as pd\n",
    "df = pd.read_csv('/app/fiddler_samples/samples/datasets/heart_disease/data.csv')\n",
    "df_schema = fdl.DatasetInfo.from_dataframe(df, max_inferred_cardinality=1000)"
   ]
  },
  {
   "cell_type": "code",
   "execution_count": 3,
   "metadata": {},
   "outputs": [
    {
     "data": {
      "text/html": [
       "<div>\n",
       "<style scoped>\n",
       "    .dataframe tbody tr th:only-of-type {\n",
       "        vertical-align: middle;\n",
       "    }\n",
       "\n",
       "    .dataframe tbody tr th {\n",
       "        vertical-align: top;\n",
       "    }\n",
       "\n",
       "    .dataframe thead th {\n",
       "        text-align: right;\n",
       "    }\n",
       "</style>\n",
       "<table border=\"1\" class=\"dataframe\">\n",
       "  <thead>\n",
       "    <tr style=\"text-align: right;\">\n",
       "      <th></th>\n",
       "      <th>age</th>\n",
       "      <th>sex</th>\n",
       "      <th>trestbps</th>\n",
       "      <th>chol</th>\n",
       "      <th>fbs</th>\n",
       "      <th>thalach</th>\n",
       "      <th>exang</th>\n",
       "      <th>oldpeak</th>\n",
       "      <th>slope</th>\n",
       "      <th>target</th>\n",
       "    </tr>\n",
       "  </thead>\n",
       "  <tbody>\n",
       "    <tr>\n",
       "      <td>0</td>\n",
       "      <td>63</td>\n",
       "      <td>1</td>\n",
       "      <td>145</td>\n",
       "      <td>233</td>\n",
       "      <td>1</td>\n",
       "      <td>150</td>\n",
       "      <td>0</td>\n",
       "      <td>2.3</td>\n",
       "      <td>3</td>\n",
       "      <td>0</td>\n",
       "    </tr>\n",
       "    <tr>\n",
       "      <td>1</td>\n",
       "      <td>67</td>\n",
       "      <td>1</td>\n",
       "      <td>160</td>\n",
       "      <td>286</td>\n",
       "      <td>0</td>\n",
       "      <td>108</td>\n",
       "      <td>1</td>\n",
       "      <td>1.5</td>\n",
       "      <td>2</td>\n",
       "      <td>1</td>\n",
       "    </tr>\n",
       "    <tr>\n",
       "      <td>2</td>\n",
       "      <td>67</td>\n",
       "      <td>1</td>\n",
       "      <td>120</td>\n",
       "      <td>229</td>\n",
       "      <td>0</td>\n",
       "      <td>129</td>\n",
       "      <td>1</td>\n",
       "      <td>2.6</td>\n",
       "      <td>2</td>\n",
       "      <td>0</td>\n",
       "    </tr>\n",
       "    <tr>\n",
       "      <td>3</td>\n",
       "      <td>37</td>\n",
       "      <td>1</td>\n",
       "      <td>130</td>\n",
       "      <td>250</td>\n",
       "      <td>0</td>\n",
       "      <td>187</td>\n",
       "      <td>0</td>\n",
       "      <td>3.5</td>\n",
       "      <td>3</td>\n",
       "      <td>0</td>\n",
       "    </tr>\n",
       "    <tr>\n",
       "      <td>4</td>\n",
       "      <td>41</td>\n",
       "      <td>0</td>\n",
       "      <td>130</td>\n",
       "      <td>204</td>\n",
       "      <td>0</td>\n",
       "      <td>172</td>\n",
       "      <td>0</td>\n",
       "      <td>1.4</td>\n",
       "      <td>1</td>\n",
       "      <td>0</td>\n",
       "    </tr>\n",
       "  </tbody>\n",
       "</table>\n",
       "</div>"
      ],
      "text/plain": [
       "   age  sex  trestbps  chol  fbs  thalach  exang  oldpeak  slope  target\n",
       "0   63    1       145   233    1      150      0      2.3      3       0\n",
       "1   67    1       160   286    0      108      1      1.5      2       1\n",
       "2   67    1       120   229    0      129      1      2.6      2       0\n",
       "3   37    1       130   250    0      187      0      3.5      3       0\n",
       "4   41    0       130   204    0      172      0      1.4      1       0"
      ]
     },
     "execution_count": 3,
     "metadata": {},
     "output_type": "execute_result"
    }
   ],
   "source": [
    "df.head()"
   ]
  },
  {
   "cell_type": "markdown",
   "metadata": {},
   "source": [
    "# Upload dataset"
   ]
  },
  {
   "cell_type": "code",
   "execution_count": 4,
   "metadata": {},
   "outputs": [],
   "source": [
    "if 'heart_disease' not in client.list_datasets():\n",
    "    upload_result = client.upload_dataset(\n",
    "        dataset={'train': df}, \n",
    "        dataset_id='heart_disease')"
   ]
  },
  {
   "cell_type": "markdown",
   "metadata": {},
   "source": [
    "# Create model schema"
   ]
  },
  {
   "cell_type": "code",
   "execution_count": 5,
   "metadata": {},
   "outputs": [],
   "source": [
    "target = 'target'\n",
    "train_input = df.drop(columns=['target'])\n",
    "train_target = df[target]\n",
    "\n",
    "feature_columns = list(train_input.columns)\n",
    "\n",
    "model_info = fdl.ModelInfo.from_dataset_info(\n",
    "    dataset_info=client.get_dataset_info('heart_disease'),\n",
    "    target=target, \n",
    "    features=feature_columns,\n",
    "    display_name='Keras Tabular IG',\n",
    "    description='this is a keras model using tabular data and IG enabled from tutorial',\n",
    "    model_task=fdl.ModelTask.BINARY_CLASSIFICATION\n",
    ")"
   ]
  },
  {
   "cell_type": "markdown",
   "metadata": {},
   "source": [
    "# Train model"
   ]
  },
  {
   "cell_type": "code",
   "execution_count": 7,
   "metadata": {},
   "outputs": [
    {
     "name": "stdout",
     "output_type": "stream",
     "text": [
      "Epoch 1/8\n",
      "303/303 [==============================] - 0s 330us/sample - loss: 6.1297 - acc: 0.6601\n",
      "Epoch 2/8\n",
      "303/303 [==============================] - 0s 44us/sample - loss: 2.8641 - acc: 0.6073\n",
      "Epoch 3/8\n",
      "303/303 [==============================] - 0s 45us/sample - loss: 1.7606 - acc: 0.6733\n",
      "Epoch 4/8\n",
      "303/303 [==============================] - 0s 40us/sample - loss: 1.1731 - acc: 0.6304\n",
      "Epoch 5/8\n",
      "303/303 [==============================] - 0s 43us/sample - loss: 0.8710 - acc: 0.7393\n",
      "Epoch 6/8\n",
      "303/303 [==============================] - 0s 52us/sample - loss: 0.5611 - acc: 0.7657\n",
      "Epoch 7/8\n",
      "303/303 [==============================] - 0s 40us/sample - loss: 0.5357 - acc: 0.7492\n",
      "Epoch 8/8\n",
      "303/303 [==============================] - 0s 51us/sample - loss: 0.5289 - acc: 0.7393\n"
     ]
    },
    {
     "data": {
      "text/plain": [
       "<tensorflow.python.keras.callbacks.History at 0x7fe43f5aa810>"
      ]
     },
     "execution_count": 7,
     "metadata": {},
     "output_type": "execute_result"
    }
   ],
   "source": [
    "import tensorflow as tf\n",
    "\n",
    "inputs = tf.keras.Input(shape=(train_input.shape[1], ))\n",
    "activations = tf.keras.layers.Dense(32, activation='linear', use_bias=True)(inputs)\n",
    "activations = tf.keras.layers.Dense(128, activation=tf.nn.relu, use_bias=True)(activations)\n",
    "activations = tf.keras.layers.Dense(128, activation=tf.nn.relu, use_bias=True)(activations)\n",
    "activations = tf.keras.layers.Dense(1, activation='sigmoid', use_bias=True)(activations)\n",
    "model = tf.keras.Model(inputs=inputs, outputs=activations, name='keras_model')\n",
    "\n",
    "model.compile(\n",
    "    optimizer=tf.keras.optimizers.Adam(learning_rate=0.001), loss='binary_crossentropy',\n",
    "    metrics=['accuracy']\n",
    ")\n",
    "\n",
    "model.fit(train_input, train_target.values, batch_size=32, epochs=8)"
   ]
  },
  {
   "cell_type": "code",
   "execution_count": 8,
   "metadata": {},
   "outputs": [
    {
     "name": "stdout",
     "output_type": "stream",
     "text": [
      "303/303 [==============================] - 0s 114us/sample - loss: 0.6215 - acc: 0.6700\n"
     ]
    },
    {
     "data": {
      "text/plain": [
       "[0.6214913084562069, 0.669967]"
      ]
     },
     "execution_count": 8,
     "metadata": {},
     "output_type": "execute_result"
    }
   ],
   "source": [
    "model.evaluate(train_input, train_target) "
   ]
  },
  {
   "cell_type": "markdown",
   "metadata": {},
   "source": [
    "# Save model and schema"
   ]
  },
  {
   "cell_type": "code",
   "execution_count": 9,
   "metadata": {},
   "outputs": [],
   "source": [
    "import pathlib\n",
    "import shutil\n",
    "import yaml\n",
    "\n",
    "project_id = 'tutorial'\n",
    "model_id = 'heart_disease_model'\n",
    "\n",
    "# create temp dir\n",
    "model_dir = pathlib.Path(model_id)\n",
    "shutil.rmtree(model_dir, ignore_errors=True)\n",
    "model_dir.mkdir()\n",
    "\n",
    "# save model\n",
    "model.save(str(model_dir / 'model.h5'), include_optimizer=False)\n",
    "\n",
    "# save model schema\n",
    "with open(model_dir / 'model.yaml', 'w') as yaml_file:\n",
    "    yaml.dump({'model': model_info.to_dict()}, yaml_file)"
   ]
  },
  {
   "cell_type": "markdown",
   "metadata": {},
   "source": [
    "# Write package.py wrapper"
   ]
  },
  {
   "cell_type": "code",
   "execution_count": 10,
   "metadata": {},
   "outputs": [
    {
     "name": "stdout",
     "output_type": "stream",
     "text": [
      "Writing heart_disease_model/package.py\n"
     ]
    }
   ],
   "source": [
    "%%writefile heart_disease_model/package.py\n",
    "\n",
    "import pathlib\n",
    "import pandas as pd\n",
    "from tensorflow.keras.models import load_model\n",
    "import tensorflow as tf\n",
    "tf.compat.v1.disable_eager_execution()\n",
    "\n",
    "\n",
    "class MyModel:\n",
    "    def __init__(self, max_allowed_error=None,\n",
    "                 output_columns=['predicted_target']):\n",
    "        self.max_allowed_error = max_allowed_error\n",
    "\n",
    "        model_dir = pathlib.Path(__file__).parent\n",
    "\n",
    "        self.sess = tf.Session()\n",
    "        with self.sess.as_default():\n",
    "            self.model = load_model(pathlib.Path(model_dir) /\n",
    "                                    'model.h5')\n",
    "        self.ig_enabled = True\n",
    "        self.is_input_differentiable = True\n",
    "        self.batch_size = 32\n",
    "        self.output_columns = output_columns\n",
    "        self.input_tensors = self.model.input\n",
    "        self.output_tensor = self.model.output\n",
    "        self.gradient_tensors = \\\n",
    "            {'predicted_target':\n",
    "                 {self.input_tensors:\n",
    "                      tf.gradients(self.output_tensor, self.input_tensors)}}\n",
    "        self.input_tensor_to_differentiable_layer_mapping = {\n",
    "            self.input_tensors: self.input_tensors}\n",
    "        self.differentiable_tensors = {self.input_tensors: self.input_tensors}\n",
    "\n",
    "    def get_feed_dict(self, input_df):\n",
    "        \"\"\"\n",
    "        Returns the input dictionary to be fed to the TensorFlow graph given\n",
    "        input_df which is a pandas DataFrame. The input_df DataFrame is\n",
    "        obtained after applying transform_input on the raw input. The\n",
    "        transform_input function is extended in package.py.\n",
    "        \"\"\"\n",
    "\n",
    "        feed = {self.input_tensors: input_df.values}\n",
    "        return feed\n",
    "\n",
    "    def transform_input(self, input_df):\n",
    "        return input_df\n",
    "\n",
    "    def generate_baseline(self, input_df):\n",
    "        return input_df*0\n",
    "\n",
    "    def predict(self, input_df):\n",
    "        transformed_input_df = self.transform_input(input_df)\n",
    "\n",
    "        with self.sess.as_default():\n",
    "\n",
    "            predictions = self.model.predict(transformed_input_df)\n",
    "\n",
    "        return pd.DataFrame(data=predictions, columns=self.output_columns)\n",
    "\n",
    "    def project_attributions(self, input_df, transformed_input_df,\n",
    "                             attributions):\n",
    "        return {col: attributions[self.input_tensors][0][i].tolist()\n",
    "                for i, col in enumerate(input_df.columns)}\n",
    "\n",
    "\n",
    "def get_model():\n",
    "    model = MyModel(max_allowed_error=1)\n",
    "    return model"
   ]
  },
  {
   "cell_type": "markdown",
   "metadata": {},
   "source": [
    "# Upload model"
   ]
  },
  {
   "cell_type": "code",
   "execution_count": 11,
   "metadata": {},
   "outputs": [],
   "source": [
    "client.delete_model(project_id, model_id)\n",
    "client.upload_model_package(model_dir, project_id, model_id)"
   ]
  },
  {
   "cell_type": "markdown",
   "metadata": {},
   "source": [
    "# Run model"
   ]
  },
  {
   "cell_type": "code",
   "execution_count": 12,
   "metadata": {},
   "outputs": [
    {
     "data": {
      "text/html": [
       "<div>\n",
       "<style scoped>\n",
       "    .dataframe tbody tr th:only-of-type {\n",
       "        vertical-align: middle;\n",
       "    }\n",
       "\n",
       "    .dataframe tbody tr th {\n",
       "        vertical-align: top;\n",
       "    }\n",
       "\n",
       "    .dataframe thead th {\n",
       "        text-align: right;\n",
       "    }\n",
       "</style>\n",
       "<table border=\"1\" class=\"dataframe\">\n",
       "  <thead>\n",
       "    <tr style=\"text-align: right;\">\n",
       "      <th></th>\n",
       "      <th>predicted_target</th>\n",
       "    </tr>\n",
       "  </thead>\n",
       "  <tbody>\n",
       "    <tr>\n",
       "      <td>0</td>\n",
       "      <td>0.741199</td>\n",
       "    </tr>\n",
       "    <tr>\n",
       "      <td>1</td>\n",
       "      <td>0.945933</td>\n",
       "    </tr>\n",
       "    <tr>\n",
       "      <td>2</td>\n",
       "      <td>0.770921</td>\n",
       "    </tr>\n",
       "    <tr>\n",
       "      <td>3</td>\n",
       "      <td>0.217970</td>\n",
       "    </tr>\n",
       "    <tr>\n",
       "      <td>4</td>\n",
       "      <td>0.094166</td>\n",
       "    </tr>\n",
       "    <tr>\n",
       "      <td>5</td>\n",
       "      <td>0.171441</td>\n",
       "    </tr>\n",
       "    <tr>\n",
       "      <td>6</td>\n",
       "      <td>0.766121</td>\n",
       "    </tr>\n",
       "    <tr>\n",
       "      <td>7</td>\n",
       "      <td>0.773178</td>\n",
       "    </tr>\n",
       "    <tr>\n",
       "      <td>8</td>\n",
       "      <td>0.696676</td>\n",
       "    </tr>\n",
       "    <tr>\n",
       "      <td>9</td>\n",
       "      <td>0.544929</td>\n",
       "    </tr>\n",
       "  </tbody>\n",
       "</table>\n",
       "</div>"
      ],
      "text/plain": [
       "   predicted_target\n",
       "0          0.741199\n",
       "1          0.945933\n",
       "2          0.770921\n",
       "3          0.217970\n",
       "4          0.094166\n",
       "5          0.171441\n",
       "6          0.766121\n",
       "7          0.773178\n",
       "8          0.696676\n",
       "9          0.544929"
      ]
     },
     "execution_count": 12,
     "metadata": {},
     "output_type": "execute_result"
    }
   ],
   "source": [
    "prediction_input = train_input[:10]\n",
    "result = client.run_model(project_id, model_id, prediction_input, log_events=True)\n",
    "result"
   ]
  },
  {
   "cell_type": "markdown",
   "metadata": {},
   "source": [
    "# Get explanation"
   ]
  },
  {
   "cell_type": "code",
   "execution_count": 14,
   "metadata": {},
   "outputs": [],
   "source": [
    "selected_point = df.head(1)"
   ]
  },
  {
   "cell_type": "code",
   "execution_count": 16,
   "metadata": {},
   "outputs": [],
   "source": [
    "ex_ig = client.run_explanation(\n",
    "    project_id=project_id,\n",
    "    model_id=model_id, \n",
    "    df=selected_point, \n",
    "    dataset_id='heart_disease',\n",
    "    explanations='ig')"
   ]
  },
  {
   "cell_type": "code",
   "execution_count": 21,
   "metadata": {},
   "outputs": [
    {
     "data": {
      "image/png": "[encoded data removed]",
      "text/plain": [
       "<Figure size 864x432 with 1 Axes>"
      ]
     },
     "metadata": {
      "needs_background": "light"
     },
     "output_type": "display_data"
    }
   ],
   "source": [
    "import matplotlib.pyplot as plt\n",
    "import numpy as np\n",
    "\n",
    "fig = plt.figure(figsize=(12, 6))\n",
    "num_features = selected_point.shape[1] - 1\n",
    "sorted_att_list = sorted(list(zip(np.abs(ex_ig.attributions), ex_ig.inputs, ex_ig.attributions)),\n",
    "                         reverse=True)\n",
    "out_list = [[f[1], f[2]] for f in sorted_att_list]\n",
    "out_list = np.asarray(out_list[::-1])\n",
    "\n",
    "plt.barh(list(range(num_features)), out_list[:,1].astype('float'))\n",
    "plt.yticks(list(range(num_features)), out_list[:,0]);\n",
    "plt.xlabel('Attribution')\n",
    "plt.title(f'Top IG attributions for heart disease model')\n",
    "plt.show()"
   ]
  },
  {
   "cell_type": "code",
   "execution_count": null,
   "metadata": {},
   "outputs": [],
   "source": []
  }
 ],
 "metadata": {
  "kernelspec": {
   "display_name": "Python 3",
   "language": "python",
   "name": "python3"
  },
  "language_info": {
   "codemirror_mode": {
    "name": "ipython",
    "version": 3
   },
   "file_extension": ".py",
   "mimetype": "text/x-python",
   "name": "python",
   "nbconvert_exporter": "python",
   "pygments_lexer": "ipython3",
   "version": "3.7.9"
  }
 },
 "nbformat": 4,
 "nbformat_minor": 2
}
