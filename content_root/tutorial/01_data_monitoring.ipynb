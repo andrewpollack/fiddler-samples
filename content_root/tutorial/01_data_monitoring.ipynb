{
 "cells": [
  {
   "cell_type": "markdown",
   "metadata": {},
   "source": [
    "## Initialize Fiddler Client\n"
   ]
  },
  {
   "cell_type": "code",
   "execution_count": 1,
   "metadata": {},
   "outputs": [],
   "source": [
    "import fiddler as fdl\n",
    "\n",
    "client = fdl.FiddlerApi()"
   ]
  },
  {
   "cell_type": "markdown",
   "metadata": {},
   "source": [
    "## Load baseline"
   ]
  },
  {
   "cell_type": "code",
   "execution_count": 2,
   "metadata": {},
   "outputs": [],
   "source": [
    "import pandas as pd\n",
    "baseline_df = pd.read_csv('/app/fiddler_samples/samples/datasets/p2p_loans/p2p_loans.csv')\n",
    "baseline_schema = fdl.DatasetInfo.from_dataframe(baseline_df, max_inferred_cardinality=1000)\n"
   ]
  },
  {
   "cell_type": "markdown",
   "metadata": {},
   "source": [
    "## Inspect Generated Schema"
   ]
  },
  {
   "cell_type": "code",
   "execution_count": 3,
   "metadata": {},
   "outputs": [
    {
     "data": {
      "text/plain": [
       "DatasetInfo:\n",
       "  display_name: \n",
       "  files: []\n",
       "  columns:\n",
       "                                column     dtype count(possible_values)  \\\n",
       "    0                               id   INTEGER                          \n",
       "    1                        loan_amnt     FLOAT                          \n",
       "    2                         int_rate     FLOAT                          \n",
       "    3                        sub_grade  CATEGORY                     31   \n",
       "    4                       emp_length  CATEGORY                     11   \n",
       "    5                   home_ownership  CATEGORY                      3   \n",
       "    6                       annual_inc     FLOAT                          \n",
       "    7                          issue_d  CATEGORY                      1   \n",
       "    8                      loan_status  CATEGORY                      2   \n",
       "    9                          purpose  CATEGORY                     12   \n",
       "    10                      addr_state  CATEGORY                     46   \n",
       "    11                             dti     FLOAT                          \n",
       "    12                     delinq_2yrs     FLOAT                          \n",
       "    13                  fico_range_low     FLOAT                          \n",
       "    14                 fico_range_high     FLOAT                          \n",
       "    15                  inq_last_6mths     FLOAT                          \n",
       "    16          mths_since_last_delinq     FLOAT                          \n",
       "    17          mths_since_last_record     FLOAT                          \n",
       "    18                        open_acc     FLOAT                          \n",
       "    19                         pub_rec     FLOAT                          \n",
       "    20                       revol_bal     FLOAT                          \n",
       "    21                      revol_util     FLOAT                          \n",
       "    22                       total_acc     FLOAT                          \n",
       "    23                     total_pymnt     FLOAT                          \n",
       "    24                 total_rec_prncp     FLOAT                          \n",
       "    25                   total_rec_int     FLOAT                          \n",
       "    26              total_rec_late_fee     FLOAT                          \n",
       "    27      collections_12_mths_ex_med     FLOAT                          \n",
       "    28     mths_since_last_major_derog     FLOAT                          \n",
       "    29                  acc_now_delinq     FLOAT                          \n",
       "    ..                             ...       ...                    ...   \n",
       "    38                     delinq_amnt     FLOAT                          \n",
       "    39            mo_sin_old_rev_tl_op     FLOAT                          \n",
       "    40           mo_sin_rcnt_rev_tl_op     FLOAT                          \n",
       "    41                  mo_sin_rcnt_tl     FLOAT                          \n",
       "    42                        mort_acc     FLOAT                          \n",
       "    43            mths_since_recent_bc     FLOAT                          \n",
       "    44           mths_since_recent_inq     FLOAT                          \n",
       "    45  mths_since_recent_revol_delinq     FLOAT                          \n",
       "    46           num_accts_ever_120_pd     FLOAT                          \n",
       "    47                  num_actv_bc_tl     FLOAT                          \n",
       "    48                 num_actv_rev_tl     FLOAT                          \n",
       "    49                     num_bc_sats     FLOAT                          \n",
       "    50                       num_bc_tl     FLOAT                          \n",
       "    51                       num_il_tl     FLOAT                          \n",
       "    52                   num_op_rev_tl     FLOAT                          \n",
       "    53                   num_rev_accts     FLOAT                          \n",
       "    54             num_rev_tl_bal_gt_0     FLOAT                          \n",
       "    55                        num_sats     FLOAT                          \n",
       "    56                num_tl_120dpd_2m     FLOAT                          \n",
       "    57                    num_tl_30dpd     FLOAT                          \n",
       "    58              num_tl_90g_dpd_24m     FLOAT                          \n",
       "    59              num_tl_op_past_12m     FLOAT                          \n",
       "    60                  pct_tl_nvr_dlq     FLOAT                          \n",
       "    61            pub_rec_bankruptcies     FLOAT                          \n",
       "    62                       tax_liens     FLOAT                          \n",
       "    63                 tot_hi_cred_lim     FLOAT                          \n",
       "    64               total_bal_ex_mort     FLOAT                          \n",
       "    65                  total_bc_limit     FLOAT                          \n",
       "    66      total_il_high_credit_limit     FLOAT                          \n",
       "    67                 zip_code_prefix   INTEGER                          \n",
       "\n",
       "       is_nullable                value_range  \n",
       "    0        False      455,400 - 37,850,000   \n",
       "    1        False      1,000.0 - 35,000.0     \n",
       "    2        False          6.0 - 25.83        \n",
       "    3        False                             \n",
       "    4         True                             \n",
       "    5        False                             \n",
       "    6        False      7,000.0 - 1,100,000.0  \n",
       "    7        False                             \n",
       "    8        False                             \n",
       "    9        False                             \n",
       "    10       False                             \n",
       "    11       False          0.0 - 39.95        \n",
       "    12       False          0.0 - 13.0         \n",
       "    13       False        660.0 - 845.0        \n",
       "    14       False        664.0 - 850.0        \n",
       "    15       False          0.0 - 6.0          \n",
       "    16        True          0.0 - 133.0        \n",
       "    17        True          4.0 - 120.0        \n",
       "    18       False          2.0 - 45.0         \n",
       "    19       False          0.0 - 18.0         \n",
       "    20       False          0.0 - 485,300.0    \n",
       "    21        True          0.0 - 110.3        \n",
       "    22       False          4.0 - 93.0         \n",
       "    23       False        413.8 - 45,850.0     \n",
       "    24       False        128.6 - 35,000.0     \n",
       "    25       False         1.67 - 10,850.0     \n",
       "    26       False          0.0 - 110.8        \n",
       "    27       False          0.0 - 2.0          \n",
       "    28        True          0.0 - 133.0        \n",
       "    29       False          0.0 - 2.0          \n",
       "    ..         ...                        ...  \n",
       "    38       False          0.0 - 22,760.0     \n",
       "    39       False          7.0 - 623.0        \n",
       "    40       False          0.0 - 197.0        \n",
       "    41       False          0.0 - 105.0        \n",
       "    42       False          0.0 - 14.0         \n",
       "    43        True          0.0 - 404.0        \n",
       "    44        True          0.0 - 24.0         \n",
       "    45        True          0.0 - 133.0        \n",
       "    46       False          0.0 - 13.0         \n",
       "    47       False          0.0 - 18.0         \n",
       "    48       False          0.0 - 22.0         \n",
       "    49       False          0.0 - 23.0         \n",
       "    50       False          0.0 - 37.0         \n",
       "    51       False          0.0 - 64.0         \n",
       "    52       False          0.0 - 34.0         \n",
       "    53       False          2.0 - 56.0         \n",
       "    54       False          0.0 - 22.0         \n",
       "    55       False          2.0 - 45.0         \n",
       "    56        True          0.0 - 1.0          \n",
       "    57       False          0.0 - 2.0          \n",
       "    58       False          0.0 - 9.0          \n",
       "    59       False          0.0 - 14.0         \n",
       "    60       False         40.0 - 100.0        \n",
       "    61       False          0.0 - 7.0          \n",
       "    62       False          0.0 - 17.0         \n",
       "    63       False      3,100.0 - 5,023,000.0  \n",
       "    64       False          0.0 - 530,900.0    \n",
       "    65       False          0.0 - 223,500.0    \n",
       "    66       False          0.0 - 649,000.0    \n",
       "    67       False           10 - 998          \n",
       "\n",
       "    [68 rows x 5 columns]"
      ]
     },
     "execution_count": 3,
     "metadata": {},
     "output_type": "execute_result"
    }
   ],
   "source": [
    "baseline_schema"
   ]
  },
  {
   "cell_type": "markdown",
   "metadata": {},
   "source": [
    "## Setup monitoring"
   ]
  },
  {
   "cell_type": "code",
   "execution_count": 5,
   "metadata": {},
   "outputs": [
    {
     "data": {
      "text/plain": [
       "'Monitoring successfully setup on Fiddler. \\n Visit http://localhost:4100/projects/tutorial to monitor'"
      ]
     },
     "execution_count": 5,
     "metadata": {},
     "output_type": "execute_result"
    }
   ],
   "source": [
    "\n",
    "project_id = 'tutorial'\n",
    "name = 'loan_status'\n",
    "target='loan_status'\n",
    "features = ['loan_amnt', 'int_rate', 'annual_inc', 'dti', 'fico_range_low', 'total_acc', 'acc_open_past_24mths']\n",
    "\n",
    "## setup/cleanup project\n",
    "if project_id in client.list_projects():\n",
    "    client.delete_model(project_id, name)\n",
    "    client.delete_dataset(name)\n",
    "else:\n",
    "    client.create_project(project_id)\n",
    "\n",
    "\n",
    "client.setup_monitoring(\n",
    "    project_id,\n",
    "    name,\n",
    "    baseline_df,\n",
    "    baseline_schema,\n",
    "    target,\n",
    "    features\n",
    ")\n"
   ]
  },
  {
   "cell_type": "markdown",
   "metadata": {},
   "source": [
    "## Start sending monitoring events"
   ]
  },
  {
   "cell_type": "code",
   "execution_count": 6,
   "metadata": {},
   "outputs": [
    {
     "ename": "KeyboardInterrupt",
     "evalue": "",
     "output_type": "error",
     "traceback": [
      "\u001b[0;31m---------------------------------------------------------------------------\u001b[0m",
      "\u001b[0;31mKeyboardInterrupt\u001b[0m                         Traceback (most recent call last)",
      "\u001b[0;32m<ipython-input-6-5a0588e18ba1>\u001b[0m in \u001b[0;36m<module>\u001b[0;34m\u001b[0m\n\u001b[1;32m      6\u001b[0m     \u001b[0mresult\u001b[0m \u001b[0;34m=\u001b[0m \u001b[0mclient\u001b[0m\u001b[0;34m.\u001b[0m\u001b[0mrun_model\u001b[0m\u001b[0;34m(\u001b[0m\u001b[0mproject_id\u001b[0m\u001b[0;34m,\u001b[0m \u001b[0mname\u001b[0m\u001b[0;34m,\u001b[0m \u001b[0mrow\u001b[0m\u001b[0;34m,\u001b[0m \u001b[0mlog_events\u001b[0m\u001b[0;34m=\u001b[0m\u001b[0;32mTrue\u001b[0m\u001b[0;34m)\u001b[0m\u001b[0;34m\u001b[0m\u001b[0;34m\u001b[0m\u001b[0m\n\u001b[1;32m      7\u001b[0m     \u001b[0;31m# print(result)\u001b[0m\u001b[0;34m\u001b[0m\u001b[0;34m\u001b[0m\u001b[0;34m\u001b[0m\u001b[0m\n\u001b[0;32m----> 8\u001b[0;31m     \u001b[0mtime\u001b[0m\u001b[0;34m.\u001b[0m\u001b[0msleep\u001b[0m\u001b[0;34m(\u001b[0m\u001b[0;36m10\u001b[0m\u001b[0;34m)\u001b[0m\u001b[0;34m\u001b[0m\u001b[0;34m\u001b[0m\u001b[0m\n\u001b[0m",
      "\u001b[0;31mKeyboardInterrupt\u001b[0m: "
     ]
    }
   ],
   "source": [
    "import time\n",
    "\n",
    "chunk = 1  #chunk row size\n",
    "list_df = [baseline_df[i:i+chunk] for i in range(0, baseline_df.shape[0], chunk)]\n",
    "for row in list_df:\n",
    "    result = client.run_model(project_id, name, row, log_events=True)\n",
    "    # print(result)\n",
    "    time.sleep(10)"
   ]
  },
  {
   "cell_type": "markdown",
   "metadata": {},
   "source": [
    "## Clean up this sample"
   ]
  },
  {
   "cell_type": "code",
   "execution_count": null,
   "metadata": {},
   "outputs": [],
   "source": [
    "# client.delete_model(project_id, name)\n",
    "# client.delete_dataset(name)\n"
   ]
  }
 ],
 "metadata": {
  "kernelspec": {
   "display_name": "Python 3",
   "language": "python",
   "name": "python3"
  },
  "language_info": {
   "codemirror_mode": {
    "name": "ipython",
    "version": 3
   },
   "file_extension": ".py",
   "mimetype": "text/x-python",
   "name": "python",
   "nbconvert_exporter": "python",
   "pygments_lexer": "ipython3",
   "version": "3.7.3"
  }
 },
 "nbformat": 4,
 "nbformat_minor": 2
}
