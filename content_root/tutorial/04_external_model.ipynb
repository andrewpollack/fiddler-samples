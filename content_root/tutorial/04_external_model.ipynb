{
 "cells": [
  {
   "cell_type": "code",
   "execution_count": 5,
   "metadata": {},
   "outputs": [],
   "source": [
    "import fiddler as fdl\n",
    "import pandas as pd\n",
    "\n",
    "client = fdl.FiddlerApi()"
   ]
  },
  {
   "cell_type": "markdown",
   "metadata": {},
   "source": [
    "If dataset is already in Fiddler, just use it. Otherwise upload it."
   ]
  },
  {
   "cell_type": "code",
   "execution_count": 6,
   "metadata": {},
   "outputs": [],
   "source": [
    "if 'wine_quality' in client.list_datasets():\n",
    "    df_schema = client.get_dataset_info('wine_quality')\n",
    "    df = client.get_dataset('wine_quality')['train']\n",
    "else:\n",
    "    df = pd.read_csv('/app/fiddler_samples/samples/datasets/winequality/train.csv')\n",
    "    df_schema = fdl.DatasetInfo.from_dataframe(df, max_inferred_cardinality=1000)\n",
    "    upload_result = client.upload_dataset(\n",
    "        dataset={'train': df}, \n",
    "        dataset_id='wine_quality')"
   ]
  },
  {
   "cell_type": "code",
   "execution_count": null,
   "metadata": {},
   "outputs": [],
   "source": [
    "df_schema"
   ]
  },
  {
   "cell_type": "code",
   "execution_count": 7,
   "metadata": {
    "scrolled": false
   },
   "outputs": [
    {
     "data": {
      "text/plain": [
       "ModelInfo:\n",
       "  display_name: external model\n",
       "  description: this is an external model called from fiddler via rest API\n",
       "  input_type: ModelInputType.TABULAR\n",
       "  model_task: ModelTask.REGRESSION\n",
       "  inputs:\n",
       "                      column  dtype count(possible_values) is_nullable  \\\n",
       "    0          fixed acidity  FLOAT                              False   \n",
       "    1       volatile acidity  FLOAT                              False   \n",
       "    2            citric acid  FLOAT                              False   \n",
       "    3         residual sugar  FLOAT                              False   \n",
       "    4              chlorides  FLOAT                              False   \n",
       "    5    free sulfur dioxide  FLOAT                              False   \n",
       "    6   total sulfur dioxide  FLOAT                              False   \n",
       "    7                density  FLOAT                              False   \n",
       "    8                     pH  FLOAT                              False   \n",
       "    9              sulphates  FLOAT                              False   \n",
       "    10               alcohol  FLOAT                              False   \n",
       "\n",
       "          value_range  \n",
       "    0     4.7 - 15.9   \n",
       "    1    0.12 - 1.58   \n",
       "    2     0.0 - 1.0    \n",
       "    3     0.9 - 15.5   \n",
       "    4   0.012 - 0.611  \n",
       "    5     1.0 - 72.0   \n",
       "    6     6.0 - 289.0  \n",
       "    7    0.99 - 1.004  \n",
       "    8    2.74 - 4.01   \n",
       "    9    0.37 - 2.0    \n",
       "    10    8.4 - 14.9   \n",
       "  outputs:\n",
       "                  column  dtype count(possible_values) is_nullable value_range\n",
       "    0  predicted_quality  FLOAT                              False       * - *\n",
       "\n",
       "\n",
       "  targets: [Column(name=\"quality\", data_type=DataType.INTEGER, possible_values=None, is_nullable=False, value_range_min=3, value_range_max=8)]\n",
       "  misc:\n",
       "    {}"
      ]
     },
     "execution_count": 7,
     "metadata": {},
     "output_type": "execute_result"
    }
   ],
   "source": [
    "target = 'quality'\n",
    "\n",
    "feature_columns = df_schema.get_column_names()\n",
    "feature_columns.remove('row_id')\n",
    "feature_columns.remove(target)\n",
    "\n",
    "model_info = fdl.ModelInfo.from_dataset_info(\n",
    "    dataset_info=df_schema,\n",
    "    target=target, \n",
    "    features=feature_columns,\n",
    "    display_name='external model',\n",
    "    description='this is an external model called from fiddler via rest API'\n",
    ")\n",
    "model_info"
   ]
  },
  {
   "cell_type": "code",
   "execution_count": 8,
   "metadata": {},
   "outputs": [],
   "source": [
    "import pathlib\n",
    "import shutil\n",
    "import yaml\n",
    "\n",
    "model_dir = pathlib.Path('external_model')\n",
    "shutil.rmtree(model_dir, ignore_errors=True)\n",
    "model_dir.mkdir()\n",
    "\n",
    "with open(model_dir / 'model.yaml', 'w') as yaml_file:\n",
    "    yaml.dump({'model': model_info.to_dict()}, yaml_file)\n"
   ]
  },
  {
   "cell_type": "code",
   "execution_count": 34,
   "metadata": {},
   "outputs": [
    {
     "name": "stdout",
     "output_type": "stream",
     "text": [
      "Overwriting external_model/package.py\n"
     ]
    }
   ],
   "source": [
    "%%writefile external_model/package.py\n",
    "\n",
    "from pathlib import Path\n",
    "import pandas as pd\n",
    "\n",
    "class SklearnModelPackage:\n",
    "    is_classifier = False\n",
    "    output_columns = ['predicted_quality']\n",
    "\n",
    "    def predict(self, input_df):\n",
    "        json_input = input_df.to_json(orient='records')\n",
    "        print(json_input)\n",
    "        return pd.DataFrame([1, 4, 5, 6], columns=self.output_columns)\n",
    "    \n",
    "def get_model():\n",
    "    return SklearnModelPackage()\n"
   ]
  },
  {
   "cell_type": "code",
   "execution_count": 41,
   "metadata": {},
   "outputs": [
    {
     "name": "stdout",
     "output_type": "stream",
     "text": [
      "[{\"fixed acidity\":8.6,\"volatile acidity\":0.49,\"citric acid\":0.29,\"residual sugar\":2.0,\"chlorides\":0.11,\"free sulfur dioxide\":19.0,\"total sulfur dioxide\":133.0,\"density\":0.9972,\"pH\":2.93,\"sulphates\":1.98,\"alcohol\":9.8},{\"fixed acidity\":8.0,\"volatile acidity\":0.18,\"citric acid\":0.37,\"residual sugar\":0.9,\"chlorides\":0.049,\"free sulfur dioxide\":36.0,\"total sulfur dioxide\":109.0,\"density\":0.99007,\"pH\":2.89,\"sulphates\":0.44,\"alcohol\":12.7}]\n"
     ]
    },
    {
     "data": {
      "text/html": [
       "<div>\n",
       "<style scoped>\n",
       "    .dataframe tbody tr th:only-of-type {\n",
       "        vertical-align: middle;\n",
       "    }\n",
       "\n",
       "    .dataframe tbody tr th {\n",
       "        vertical-align: top;\n",
       "    }\n",
       "\n",
       "    .dataframe thead th {\n",
       "        text-align: right;\n",
       "    }\n",
       "</style>\n",
       "<table border=\"1\" class=\"dataframe\">\n",
       "  <thead>\n",
       "    <tr style=\"text-align: right;\">\n",
       "      <th></th>\n",
       "      <th>predicted_quality</th>\n",
       "    </tr>\n",
       "  </thead>\n",
       "  <tbody>\n",
       "    <tr>\n",
       "      <th>0</th>\n",
       "      <td>1</td>\n",
       "    </tr>\n",
       "    <tr>\n",
       "      <th>1</th>\n",
       "      <td>4</td>\n",
       "    </tr>\n",
       "    <tr>\n",
       "      <th>2</th>\n",
       "      <td>5</td>\n",
       "    </tr>\n",
       "    <tr>\n",
       "      <th>3</th>\n",
       "      <td>6</td>\n",
       "    </tr>\n",
       "  </tbody>\n",
       "</table>\n",
       "</div>"
      ],
      "text/plain": [
       "   predicted_quality\n",
       "0                  1\n",
       "1                  4\n",
       "2                  5\n",
       "3                  6"
      ]
     },
     "execution_count": 41,
     "metadata": {},
     "output_type": "execute_result"
    }
   ],
   "source": [
    "def my_import(name):\n",
    "    components = name.split('.')\n",
    "    mod = __import__(components[0])\n",
    "    for comp in components[1:]:\n",
    "        mod = getattr(mod, comp)\n",
    "    return mod\n",
    "\n",
    "from importlib import reload\n",
    "\n",
    "model_class = my_import('external_model.package')\n",
    "reload(model_class)\n",
    "\n",
    "test_input = df.drop(columns=['row_id', 'quality'])\n",
    "model_class.get_model().predict(test_input[0:2])\n"
   ]
  },
  {
   "cell_type": "code",
   "execution_count": 37,
   "metadata": {},
   "outputs": [],
   "source": [
    "project_id = 'tutorial'\n",
    "model_id = 'external_model'\n",
    "client.delete_model(project_id, model_id)\n",
    "client.upload_model_package(model_dir, project_id, model_id)"
   ]
  },
  {
   "cell_type": "code",
   "execution_count": 39,
   "metadata": {},
   "outputs": [
    {
     "data": {
      "text/html": [
       "<div>\n",
       "<style scoped>\n",
       "    .dataframe tbody tr th:only-of-type {\n",
       "        vertical-align: middle;\n",
       "    }\n",
       "\n",
       "    .dataframe tbody tr th {\n",
       "        vertical-align: top;\n",
       "    }\n",
       "\n",
       "    .dataframe thead th {\n",
       "        text-align: right;\n",
       "    }\n",
       "</style>\n",
       "<table border=\"1\" class=\"dataframe\">\n",
       "  <thead>\n",
       "    <tr style=\"text-align: right;\">\n",
       "      <th></th>\n",
       "      <th>predicted_quality</th>\n",
       "    </tr>\n",
       "  </thead>\n",
       "  <tbody>\n",
       "    <tr>\n",
       "      <th>0</th>\n",
       "      <td>1</td>\n",
       "    </tr>\n",
       "    <tr>\n",
       "      <th>1</th>\n",
       "      <td>4</td>\n",
       "    </tr>\n",
       "    <tr>\n",
       "      <th>2</th>\n",
       "      <td>5</td>\n",
       "    </tr>\n",
       "    <tr>\n",
       "      <th>3</th>\n",
       "      <td>6</td>\n",
       "    </tr>\n",
       "  </tbody>\n",
       "</table>\n",
       "</div>"
      ],
      "text/plain": [
       "   predicted_quality\n",
       "0                  1\n",
       "1                  4\n",
       "2                  5\n",
       "3                  6"
      ]
     },
     "execution_count": 39,
     "metadata": {},
     "output_type": "execute_result"
    }
   ],
   "source": [
    "import logging\n",
    "logger = logging.getLogger()\n",
    "logger.setLevel(logging.DEBUG)\n",
    "client.verbose=True\n",
    "client.run_model(project_id, model_id, test_input)\n"
   ]
  }
 ],
 "metadata": {
  "kernelspec": {
   "display_name": "Python 3",
   "language": "python",
   "name": "python3"
  },
  "language_info": {
   "codemirror_mode": {
    "name": "ipython",
    "version": 3
   },
   "file_extension": ".py",
   "mimetype": "text/x-python",
   "name": "python",
   "nbconvert_exporter": "python",
   "pygments_lexer": "ipython3",
   "version": "3.7.3"
  }
 },
 "nbformat": 4,
 "nbformat_minor": 2
}
