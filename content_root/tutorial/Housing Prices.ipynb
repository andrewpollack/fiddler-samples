{
 "cells": [
  {
   "cell_type": "markdown",
   "metadata": {},
   "source": [
    "## Initialize Fiddler Client\n"
   ]
  },
  {
   "cell_type": "code",
   "execution_count": null,
   "metadata": {},
   "outputs": [],
   "source": [
    "import fiddler as fdl\n",
    "client = fdl.FiddlerApi()"
   ]
  },
  {
   "cell_type": "markdown",
   "metadata": {},
   "source": [
    "## Load baseline"
   ]
  },
  {
   "cell_type": "code",
   "execution_count": null,
   "metadata": {},
   "outputs": [],
   "source": [
    "import pandas as pd\n",
    "baseline_df = pd.read_csv('/app/fiddler_samples/samples/datasets/housing/housing-prices.csv')\n",
    "baseline_schema = fdl.DatasetInfo.from_dataframe(baseline_df, max_inferred_cardinality=1000)\n"
   ]
  },
  {
   "cell_type": "code",
   "execution_count": null,
   "metadata": {},
   "outputs": [],
   "source": [
    "baseline_df"
   ]
  },
  {
   "cell_type": "markdown",
   "metadata": {},
   "source": [
    "## Setup monitoring"
   ]
  },
  {
   "cell_type": "code",
   "execution_count": null,
   "metadata": {},
   "outputs": [],
   "source": [
    "project_id = 'tutorial'\n",
    "name = 'housing_prices'\n",
    "target='SalePrice'\n",
    "input_df = baseline_df.drop(columns=['Id', target])\n",
    "features = list(input_df.columns)"
   ]
  },
  {
   "cell_type": "code",
   "execution_count": null,
   "metadata": {},
   "outputs": [],
   "source": [
    "## setup/cleanup project\n",
    "if project_id in client.list_projects():\n",
    "    client.delete_model(project_id, name)\n",
    "    client.delete_dataset(name)\n",
    "else:\n",
    "    client.create_project(project_id)\n",
    "\n",
    "\n",
    "client.create_surrogate_model(\n",
    "    project_id,\n",
    "    name,\n",
    "    baseline_df,\n",
    "    baseline_schema,\n",
    "    target,\n",
    "    features\n",
    ")"
   ]
  },
  {
   "cell_type": "markdown",
   "metadata": {},
   "source": [
    "## Send monitoring events"
   ]
  },
  {
   "cell_type": "code",
   "execution_count": null,
   "metadata": {},
   "outputs": [],
   "source": [
    "import datetime\n",
    "import random\n",
    "from IPython.display import clear_output\n",
    "import time\n",
    "\n",
    "chunked_df = [input_df[i:i+1] for i in range(0, input_df.shape[0], 1)]\n",
    "count = 0\n",
    "for row_df in chunked_df:\n",
    "    client.run_model(project_id, name, row_df, log_events=True)\n",
    "    count += 1\n",
    "    clear_output(wait = True)\n",
    "    print(f'Sending {count} / {len(chunked_df)}')\n",
    "    time.sleep(2)"
   ]
  }
 ],
 "metadata": {
  "kernelspec": {
   "display_name": "Python 3",
   "language": "python",
   "name": "python3"
  },
  "language_info": {
   "codemirror_mode": {
    "name": "ipython",
    "version": 3
   },
   "file_extension": ".py",
   "mimetype": "text/x-python",
   "name": "python",
   "nbconvert_exporter": "python",
   "pygments_lexer": "ipython3",
   "version": "3.7.3"
  }
 },
 "nbformat": 4,
 "nbformat_minor": 2
}
